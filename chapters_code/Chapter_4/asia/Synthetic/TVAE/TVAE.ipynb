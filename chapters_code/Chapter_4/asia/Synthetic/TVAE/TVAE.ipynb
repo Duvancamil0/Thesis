{
 "cells": [
  {
   "cell_type": "code",
   "execution_count": 1,
   "metadata": {},
   "outputs": [
    {
     "data": {
      "text/html": [
       "<div>\n",
       "<style scoped>\n",
       "    .dataframe tbody tr th:only-of-type {\n",
       "        vertical-align: middle;\n",
       "    }\n",
       "\n",
       "    .dataframe tbody tr th {\n",
       "        vertical-align: top;\n",
       "    }\n",
       "\n",
       "    .dataframe thead th {\n",
       "        text-align: right;\n",
       "    }\n",
       "</style>\n",
       "<table border=\"1\" class=\"dataframe\">\n",
       "  <thead>\n",
       "    <tr style=\"text-align: right;\">\n",
       "      <th></th>\n",
       "      <th>asia</th>\n",
       "      <th>tub</th>\n",
       "      <th>smoke</th>\n",
       "      <th>lung</th>\n",
       "      <th>bronc</th>\n",
       "      <th>either</th>\n",
       "      <th>xray</th>\n",
       "      <th>dysp</th>\n",
       "    </tr>\n",
       "  </thead>\n",
       "  <tbody>\n",
       "    <tr>\n",
       "      <th>0</th>\n",
       "      <td>no</td>\n",
       "      <td>no</td>\n",
       "      <td>yes</td>\n",
       "      <td>no</td>\n",
       "      <td>no</td>\n",
       "      <td>no</td>\n",
       "      <td>no</td>\n",
       "      <td>no</td>\n",
       "    </tr>\n",
       "    <tr>\n",
       "      <th>1</th>\n",
       "      <td>no</td>\n",
       "      <td>no</td>\n",
       "      <td>no</td>\n",
       "      <td>no</td>\n",
       "      <td>yes</td>\n",
       "      <td>no</td>\n",
       "      <td>no</td>\n",
       "      <td>no</td>\n",
       "    </tr>\n",
       "    <tr>\n",
       "      <th>2</th>\n",
       "      <td>no</td>\n",
       "      <td>no</td>\n",
       "      <td>yes</td>\n",
       "      <td>no</td>\n",
       "      <td>no</td>\n",
       "      <td>no</td>\n",
       "      <td>no</td>\n",
       "      <td>no</td>\n",
       "    </tr>\n",
       "  </tbody>\n",
       "</table>\n",
       "</div>"
      ],
      "text/plain": [
       "  asia tub smoke lung bronc either xray dysp\n",
       "0   no  no   yes   no    no     no   no   no\n",
       "1   no  no    no   no   yes     no   no   no\n",
       "2   no  no   yes   no    no     no   no   no"
      ]
     },
     "execution_count": 1,
     "metadata": {},
     "output_type": "execute_result"
    }
   ],
   "source": [
    "import pandas as pd\n",
    "\n",
    "df_100 = pd.read_csv(\"/Users/camilodavid/Library/CloudStorage/OneDrive-Personal/Tohoku U/PhD/Papers/4rd Paper/Code/asia/Samples/stratified_100.csv\")\n",
    "df_100.head(3)"
   ]
  },
  {
   "cell_type": "code",
   "execution_count": 2,
   "metadata": {},
   "outputs": [
    {
     "name": "stdout",
     "output_type": "stream",
     "text": [
      "Auto detected data:\n",
      "\n"
     ]
    },
    {
     "data": {
      "text/plain": [
       "{\n",
       "    \"METADATA_SPEC_VERSION\": \"SINGLE_TABLE_V1\",\n",
       "    \"columns\": {\n",
       "        \"asia\": {\n",
       "            \"sdtype\": \"categorical\"\n",
       "        },\n",
       "        \"tub\": {\n",
       "            \"sdtype\": \"categorical\"\n",
       "        },\n",
       "        \"smoke\": {\n",
       "            \"sdtype\": \"categorical\"\n",
       "        },\n",
       "        \"lung\": {\n",
       "            \"sdtype\": \"categorical\"\n",
       "        },\n",
       "        \"bronc\": {\n",
       "            \"sdtype\": \"categorical\"\n",
       "        },\n",
       "        \"either\": {\n",
       "            \"sdtype\": \"categorical\"\n",
       "        },\n",
       "        \"xray\": {\n",
       "            \"sdtype\": \"categorical\"\n",
       "        },\n",
       "        \"dysp\": {\n",
       "            \"sdtype\": \"categorical\"\n",
       "        }\n",
       "    }\n",
       "}"
      ]
     },
     "execution_count": 2,
     "metadata": {},
     "output_type": "execute_result"
    }
   ],
   "source": [
    "from sdv.metadata import SingleTableMetadata\n",
    "\n",
    "metadata = SingleTableMetadata()\n",
    "metadata.detect_from_dataframe(data=df_100)\n",
    "print('Auto detected data:\\n')\n",
    "metadata"
   ]
  },
  {
   "cell_type": "code",
   "execution_count": 4,
   "metadata": {},
   "outputs": [
    {
     "ename": "ValueError",
     "evalue": "A file named 'metadata.json' already exists in this folder. Please specify a different filename.",
     "output_type": "error",
     "traceback": [
      "\u001b[0;31m---------------------------------------------------------------------------\u001b[0m",
      "\u001b[0;31mValueError\u001b[0m                                Traceback (most recent call last)",
      "Cell \u001b[0;32mIn[4], line 1\u001b[0m\n\u001b[0;32m----> 1\u001b[0m metadata\u001b[39m.\u001b[39;49msave_to_json(\u001b[39m'\u001b[39;49m\u001b[39m/Users/camilodavid/Library/CloudStorage/OneDrive-Personal/Tohoku U/PhD/Papers/4rd Paper/Code/asia/Synthetic/metadata.json\u001b[39;49m\u001b[39m'\u001b[39;49m)\n",
      "File \u001b[0;32m~/Library/r-miniconda-arm64/lib/python3.9/site-packages/sdv/metadata/single_table.py:481\u001b[0m, in \u001b[0;36mSingleTableMetadata.save_to_json\u001b[0;34m(self, filepath)\u001b[0m\n\u001b[1;32m    471\u001b[0m \u001b[39mdef\u001b[39;00m \u001b[39msave_to_json\u001b[39m(\u001b[39mself\u001b[39m, filepath):\n\u001b[1;32m    472\u001b[0m \u001b[39m    \u001b[39m\u001b[39m\"\"\"Save the current ``SingleTableMetadata`` in to a ``json`` file.\u001b[39;00m\n\u001b[1;32m    473\u001b[0m \n\u001b[1;32m    474\u001b[0m \u001b[39m    Args:\u001b[39;00m\n\u001b[0;32m   (...)\u001b[0m\n\u001b[1;32m    479\u001b[0m \u001b[39m        Raises an ``Error`` if the path already exists.\u001b[39;00m\n\u001b[1;32m    480\u001b[0m \u001b[39m    \"\"\"\u001b[39;00m\n\u001b[0;32m--> 481\u001b[0m     validate_file_does_not_exist(filepath)\n\u001b[1;32m    482\u001b[0m     metadata \u001b[39m=\u001b[39m \u001b[39mself\u001b[39m\u001b[39m.\u001b[39mto_dict()\n\u001b[1;32m    483\u001b[0m     metadata[\u001b[39m'\u001b[39m\u001b[39mMETADATA_SPEC_VERSION\u001b[39m\u001b[39m'\u001b[39m] \u001b[39m=\u001b[39m \u001b[39mself\u001b[39m\u001b[39m.\u001b[39mMETADATA_SPEC_VERSION\n",
      "File \u001b[0;32m~/Library/r-miniconda-arm64/lib/python3.9/site-packages/sdv/metadata/utils.py:24\u001b[0m, in \u001b[0;36mvalidate_file_does_not_exist\u001b[0;34m(filepath)\u001b[0m\n\u001b[1;32m     22\u001b[0m filepath \u001b[39m=\u001b[39m Path(filepath)\n\u001b[1;32m     23\u001b[0m \u001b[39mif\u001b[39;00m filepath\u001b[39m.\u001b[39mexists():\n\u001b[0;32m---> 24\u001b[0m     \u001b[39mraise\u001b[39;00m \u001b[39mValueError\u001b[39;00m(\n\u001b[1;32m     25\u001b[0m         \u001b[39mf\u001b[39m\u001b[39m\"\u001b[39m\u001b[39mA file named \u001b[39m\u001b[39m'\u001b[39m\u001b[39m{\u001b[39;00mfilepath\u001b[39m.\u001b[39mname\u001b[39m}\u001b[39;00m\u001b[39m'\u001b[39m\u001b[39m already exists in this folder. Please specify \u001b[39m\u001b[39m\"\u001b[39m\n\u001b[1;32m     26\u001b[0m         \u001b[39m'\u001b[39m\u001b[39ma different filename.\u001b[39m\u001b[39m'\u001b[39m\n\u001b[1;32m     27\u001b[0m     )\n",
      "\u001b[0;31mValueError\u001b[0m: A file named 'metadata.json' already exists in this folder. Please specify a different filename."
     ]
    }
   ],
   "source": [
    "metadata.save_to_json('/Users/camilodavid/Library/CloudStorage/OneDrive-Personal/Tohoku U/PhD/Papers/4rd Paper/Code/asia/Synthetic/metadata.json')"
   ]
  },
  {
   "cell_type": "code",
   "execution_count": 5,
   "metadata": {},
   "outputs": [
    {
     "name": "stderr",
     "output_type": "stream",
     "text": [
      "/Users/camilodavid/Library/r-miniconda-arm64/lib/python3.9/site-packages/tqdm/auto.py:22: TqdmWarning: IProgress not found. Please update jupyter and ipywidgets. See https://ipywidgets.readthedocs.io/en/stable/user_install.html\n",
      "  from .autonotebook import tqdm as notebook_tqdm\n"
     ]
    }
   ],
   "source": [
    "from sdv.single_table import TVAESynthesizer\n",
    "model_100 = TVAESynthesizer(metadata)\n",
    "model_100.fit(df_100)\n",
    "sports_100_syn = model_100.sample(num_rows=2000, output_file_path=\"/Users/camilodavid/Library/CloudStorage/OneDrive-Personal/Tohoku U/PhD/Papers/4rd Paper/Code/asia/Synthetic/TVAE/asia_100_syn.csv\")"
   ]
  },
  {
   "cell_type": "code",
   "execution_count": 6,
   "metadata": {},
   "outputs": [],
   "source": [
    "df_500 = pd.read_csv(\"/Users/camilodavid/Library/CloudStorage/OneDrive-Personal/Tohoku U/PhD/Papers/4rd Paper/Code/asia/Samples/stratified_500.csv\")\n",
    "model_500 = TVAESynthesizer(metadata)\n",
    "model_500.fit(df_500)\n",
    "sports_500_syn = model_500.sample(num_rows=10000, output_file_path=\"/Users/camilodavid/Library/CloudStorage/OneDrive-Personal/Tohoku U/PhD/Papers/4rd Paper/Code/asia/Synthetic/TVAE/asia_500_syn.csv\")"
   ]
  },
  {
   "cell_type": "code",
   "execution_count": 7,
   "metadata": {},
   "outputs": [],
   "source": [
    "df_1000 = pd.read_csv(\"/Users/camilodavid/Library/CloudStorage/OneDrive-Personal/Tohoku U/PhD/Papers/4rd Paper/Code/asia/Samples/stratified_1000.csv\")\n",
    "model_1000 = TVAESynthesizer(metadata)\n",
    "model_1000.fit(df_1000)\n",
    "sports_1000_syn = model_1000.sample(num_rows=20000, output_file_path=\"/Users/camilodavid/Library/CloudStorage/OneDrive-Personal/Tohoku U/PhD/Papers/4rd Paper/Code/asia/Synthetic/TVAE/asia_1000_syn.csv\")"
   ]
  }
 ],
 "metadata": {
  "kernelspec": {
   "display_name": "Python 3",
   "language": "python",
   "name": "python3"
  },
  "language_info": {
   "codemirror_mode": {
    "name": "ipython",
    "version": 3
   },
   "file_extension": ".py",
   "mimetype": "text/x-python",
   "name": "python",
   "nbconvert_exporter": "python",
   "pygments_lexer": "ipython3",
   "version": "3.9.10"
  },
  "orig_nbformat": 4,
  "vscode": {
   "interpreter": {
    "hash": "a277570bceeeb00b25262093a773d52934552eedb15b485dd7ccf85dec1c7660"
   }
  }
 },
 "nbformat": 4,
 "nbformat_minor": 2
}
