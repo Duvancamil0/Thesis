{
 "cells": [
  {
   "attachments": {},
   "cell_type": "markdown",
   "metadata": {},
   "source": [
    "First we will compute the Column Shapes and the Column Pair Trends for the sample 1000 dataset."
   ]
  },
  {
   "cell_type": "code",
   "execution_count": 2,
   "metadata": {},
   "outputs": [],
   "source": [
    "import pandas as pd\n",
    "\n",
    "df_real = pd.read_csv(\"/asia/Samples/stratified_1000.csv\")\n",
    "df_mostly_1000 = pd.read_csv(\"/asia/Synthetic/Mostly/asia_1000_syn.csv\")\n",
    "df_TVAE_1000 = pd.read_csv(\"/asia/Synthetic/TVAE/asia_1000_syn.csv\")\n",
    "df_CTGAN_1000 = pd.read_csv(\"/asia/Synthetic/CTGAN/asia_1000_syn.csv\")"
   ]
  },
  {
   "attachments": {},
   "cell_type": "markdown",
   "metadata": {},
   "source": [
    "We evaluate the performance of Mostly AI"
   ]
  },
  {
   "cell_type": "code",
   "execution_count": 14,
   "metadata": {},
   "outputs": [
    {
     "name": "stderr",
     "output_type": "stream",
     "text": [
      "Creating report: 100%|██████████| 4/4 [00:00<00:00, 15.54it/s]"
     ]
    },
    {
     "name": "stdout",
     "output_type": "stream",
     "text": [
      "\n",
      "Overall Quality Score: 96.91%\n",
      "\n",
      "Properties:\n",
      "Column Shapes: 97.81%\n",
      "Column Pair Trends: 96.02%\n"
     ]
    },
    {
     "name": "stderr",
     "output_type": "stream",
     "text": [
      "\n"
     ]
    },
    {
     "data": {
      "text/plain": [
       "<sdmetrics.reports.single_table.quality_report.QualityReport at 0x15f6c1100>"
      ]
     },
     "execution_count": 14,
     "metadata": {},
     "output_type": "execute_result"
    }
   ],
   "source": [
    "from sdv.evaluation.single_table import evaluate_quality\n",
    "from sdv.metadata import SingleTableMetadata\n",
    "\n",
    "metadata = SingleTableMetadata.load_from_json('/asia/Synthetic/metadata.json')\n",
    "\n",
    "quality_report_mostly_1000 = evaluate_quality(\n",
    "    real_data=df_real,\n",
    "    synthetic_data=df_mostly_1000,\n",
    "    metadata=metadata)\n",
    "quality_report_mostly_1000"
   ]
  },
  {
   "attachments": {},
   "cell_type": "markdown",
   "metadata": {},
   "source": [
    "We evaluate the performance of TVAE"
   ]
  },
  {
   "cell_type": "code",
   "execution_count": 4,
   "metadata": {},
   "outputs": [
    {
     "name": "stderr",
     "output_type": "stream",
     "text": [
      "Creating report: 100%|██████████| 4/4 [00:00<00:00, 16.40it/s]"
     ]
    },
    {
     "name": "stdout",
     "output_type": "stream",
     "text": [
      "\n",
      "Overall Quality Score: 95.67%\n",
      "\n",
      "Properties:\n",
      "Column Shapes: 96.62%\n",
      "Column Pair Trends: 94.73%\n"
     ]
    },
    {
     "name": "stderr",
     "output_type": "stream",
     "text": [
      "\n"
     ]
    },
    {
     "data": {
      "text/plain": [
       "<sdmetrics.reports.single_table.quality_report.QualityReport at 0x10451f1f0>"
      ]
     },
     "execution_count": 4,
     "metadata": {},
     "output_type": "execute_result"
    }
   ],
   "source": [
    "quality_report_TVAE_1000 = evaluate_quality(\n",
    "    real_data=df_real,\n",
    "    synthetic_data=df_TVAE_1000,\n",
    "    metadata=metadata)\n",
    "quality_report_TVAE_1000"
   ]
  },
  {
   "attachments": {},
   "cell_type": "markdown",
   "metadata": {},
   "source": [
    "We evaluate the performance of CTGAN"
   ]
  },
  {
   "cell_type": "code",
   "execution_count": 5,
   "metadata": {},
   "outputs": [
    {
     "name": "stderr",
     "output_type": "stream",
     "text": [
      "Creating report: 100%|██████████| 4/4 [00:00<00:00, 16.79it/s]"
     ]
    },
    {
     "name": "stdout",
     "output_type": "stream",
     "text": [
      "\n",
      "Overall Quality Score: 91.12%\n",
      "\n",
      "Properties:\n",
      "Column Shapes: 93.7%\n",
      "Column Pair Trends: 88.53%\n"
     ]
    },
    {
     "name": "stderr",
     "output_type": "stream",
     "text": [
      "\n"
     ]
    },
    {
     "data": {
      "text/plain": [
       "<sdmetrics.reports.single_table.quality_report.QualityReport at 0x15f652610>"
      ]
     },
     "execution_count": 5,
     "metadata": {},
     "output_type": "execute_result"
    }
   ],
   "source": [
    "quality_report_CTGAN_1000 = evaluate_quality(\n",
    "    real_data=df_real,\n",
    "    synthetic_data=df_CTGAN_1000,\n",
    "    metadata=metadata)\n",
    "quality_report_CTGAN_1000"
   ]
  },
  {
   "attachments": {},
   "cell_type": "markdown",
   "metadata": {},
   "source": [
    "Next we will compute the Column Shapes and the Column Pair Trends for the sample 500 dataset."
   ]
  },
  {
   "cell_type": "code",
   "execution_count": 6,
   "metadata": {},
   "outputs": [],
   "source": [
    "df_real = pd.read_csv(\"/asia/Samples/stratified_500.csv\")\n",
    "df_mostly_500 = pd.read_csv(\"/asia/Synthetic/Mostly/asia_500_syn.csv\")\n",
    "df_TVAE_500 = pd.read_csv(\"/asia/Synthetic/TVAE/asia_500_syn.csv\")\n",
    "df_CTGAN_500 = pd.read_csv(\"/asia/Synthetic/CTGAN/asia_500_syn.csv\")"
   ]
  },
  {
   "attachments": {},
   "cell_type": "markdown",
   "metadata": {},
   "source": [
    "We evaluate the performance of Mostly AI"
   ]
  },
  {
   "cell_type": "code",
   "execution_count": 7,
   "metadata": {},
   "outputs": [
    {
     "name": "stderr",
     "output_type": "stream",
     "text": [
      "Creating report: 100%|██████████| 4/4 [00:00<00:00, 20.69it/s]"
     ]
    },
    {
     "name": "stdout",
     "output_type": "stream",
     "text": [
      "\n",
      "Overall Quality Score: 99.18%\n",
      "\n",
      "Properties:\n",
      "Column Shapes: 99.43%\n",
      "Column Pair Trends: 98.94%\n"
     ]
    },
    {
     "name": "stderr",
     "output_type": "stream",
     "text": [
      "\n"
     ]
    }
   ],
   "source": [
    "quality_report_mostly_500 = evaluate_quality(\n",
    "    real_data=df_real,\n",
    "    synthetic_data=df_mostly_500,\n",
    "    metadata=metadata)"
   ]
  },
  {
   "attachments": {},
   "cell_type": "markdown",
   "metadata": {},
   "source": [
    "We evaluate the performance of TVAE"
   ]
  },
  {
   "cell_type": "code",
   "execution_count": 8,
   "metadata": {},
   "outputs": [
    {
     "name": "stderr",
     "output_type": "stream",
     "text": [
      "Creating report: 100%|██████████| 4/4 [00:00<00:00, 20.21it/s]"
     ]
    },
    {
     "name": "stdout",
     "output_type": "stream",
     "text": [
      "\n",
      "Overall Quality Score: 92.7%\n",
      "\n",
      "Properties:\n",
      "Column Shapes: 94.12%\n",
      "Column Pair Trends: 91.28%\n"
     ]
    },
    {
     "name": "stderr",
     "output_type": "stream",
     "text": [
      "\n"
     ]
    }
   ],
   "source": [
    "quality_report_TVAE_500 = evaluate_quality(\n",
    "    real_data=df_real,\n",
    "    synthetic_data=df_TVAE_500,\n",
    "    metadata=metadata)"
   ]
  },
  {
   "attachments": {},
   "cell_type": "markdown",
   "metadata": {},
   "source": [
    "We evaluate the performance of CTGAN"
   ]
  },
  {
   "cell_type": "code",
   "execution_count": 9,
   "metadata": {},
   "outputs": [
    {
     "name": "stderr",
     "output_type": "stream",
     "text": [
      "Creating report: 100%|██████████| 4/4 [00:00<00:00, 21.17it/s]"
     ]
    },
    {
     "name": "stdout",
     "output_type": "stream",
     "text": [
      "\n",
      "Overall Quality Score: 88.91%\n",
      "\n",
      "Properties:\n",
      "Column Shapes: 92.36%\n",
      "Column Pair Trends: 85.46%\n"
     ]
    },
    {
     "name": "stderr",
     "output_type": "stream",
     "text": [
      "\n"
     ]
    },
    {
     "data": {
      "text/plain": [
       "<sdmetrics.reports.single_table.quality_report.QualityReport at 0x15f6c1f10>"
      ]
     },
     "execution_count": 9,
     "metadata": {},
     "output_type": "execute_result"
    }
   ],
   "source": [
    "quality_report_CTGAN_500 = evaluate_quality(\n",
    "    real_data=df_real,\n",
    "    synthetic_data=df_CTGAN_500,\n",
    "    metadata=metadata)\n",
    "quality_report_CTGAN_500"
   ]
  },
  {
   "attachments": {},
   "cell_type": "markdown",
   "metadata": {},
   "source": [
    "Finally we will compute the Column Shapes and the Column Pair Trends for the sample 100 dataset."
   ]
  },
  {
   "cell_type": "code",
   "execution_count": 10,
   "metadata": {},
   "outputs": [],
   "source": [
    "df_real = pd.read_csv(\"/asia/Samples/stratified_100.csv\")\n",
    "df_mostly_100 = pd.read_csv(\"/asia/Synthetic/Mostly/asia_100_syn.csv\")\n",
    "df_TVAE_100 = pd.read_csv(\"/asia/Synthetic/TVAE/asia_100_syn.csv\")\n",
    "df_CTGAN_100 = pd.read_csv(\"/asia/Synthetic/CTGAN/asia_100_syn.csv\")"
   ]
  },
  {
   "attachments": {},
   "cell_type": "markdown",
   "metadata": {},
   "source": [
    "We evaluate the performance of Mostly AI"
   ]
  },
  {
   "cell_type": "code",
   "execution_count": 11,
   "metadata": {},
   "outputs": [
    {
     "name": "stderr",
     "output_type": "stream",
     "text": [
      "Creating report: 100%|██████████| 4/4 [00:00<00:00, 26.53it/s]"
     ]
    },
    {
     "name": "stdout",
     "output_type": "stream",
     "text": [
      "\n",
      "Overall Quality Score: 96.23%\n",
      "\n",
      "Properties:\n",
      "Column Shapes: 97.8%\n",
      "Column Pair Trends: 94.67%\n"
     ]
    },
    {
     "name": "stderr",
     "output_type": "stream",
     "text": [
      "\n"
     ]
    },
    {
     "data": {
      "text/plain": [
       "<sdmetrics.reports.single_table.quality_report.QualityReport at 0x15f6a8d90>"
      ]
     },
     "execution_count": 11,
     "metadata": {},
     "output_type": "execute_result"
    }
   ],
   "source": [
    "quality_report_mostly_100 = evaluate_quality(\n",
    "    real_data=df_real,\n",
    "    synthetic_data=df_mostly_100,\n",
    "    metadata=metadata)\n",
    "quality_report_mostly_100"
   ]
  },
  {
   "attachments": {},
   "cell_type": "markdown",
   "metadata": {},
   "source": [
    "We evaluate the performance of TVAE"
   ]
  },
  {
   "cell_type": "code",
   "execution_count": 12,
   "metadata": {},
   "outputs": [
    {
     "name": "stderr",
     "output_type": "stream",
     "text": [
      "Creating report: 100%|██████████| 4/4 [00:00<00:00, 26.08it/s]"
     ]
    },
    {
     "name": "stdout",
     "output_type": "stream",
     "text": [
      "\n",
      "Overall Quality Score: 94.24%\n",
      "\n",
      "Properties:\n",
      "Column Shapes: 95.71%\n",
      "Column Pair Trends: 92.76%\n"
     ]
    },
    {
     "name": "stderr",
     "output_type": "stream",
     "text": [
      "\n"
     ]
    },
    {
     "data": {
      "text/plain": [
       "<sdmetrics.reports.single_table.quality_report.QualityReport at 0x15f6a8fd0>"
      ]
     },
     "execution_count": 12,
     "metadata": {},
     "output_type": "execute_result"
    }
   ],
   "source": [
    "quality_report_TVAE_100 = evaluate_quality(\n",
    "    real_data=df_real,\n",
    "    synthetic_data=df_TVAE_100,\n",
    "    metadata=metadata)\n",
    "quality_report_TVAE_100"
   ]
  },
  {
   "attachments": {},
   "cell_type": "markdown",
   "metadata": {},
   "source": [
    "We evaluate the performance of CTGAN"
   ]
  },
  {
   "cell_type": "code",
   "execution_count": 13,
   "metadata": {},
   "outputs": [
    {
     "name": "stderr",
     "output_type": "stream",
     "text": [
      "Creating report: 100%|██████████| 4/4 [00:00<00:00, 26.60it/s]"
     ]
    },
    {
     "name": "stdout",
     "output_type": "stream",
     "text": [
      "\n",
      "Overall Quality Score: 87.16%\n",
      "\n",
      "Properties:\n",
      "Column Shapes: 91.09%\n",
      "Column Pair Trends: 83.22%\n"
     ]
    },
    {
     "name": "stderr",
     "output_type": "stream",
     "text": [
      "\n"
     ]
    },
    {
     "data": {
      "text/plain": [
       "<sdmetrics.reports.single_table.quality_report.QualityReport at 0x15f6c8cd0>"
      ]
     },
     "execution_count": 13,
     "metadata": {},
     "output_type": "execute_result"
    }
   ],
   "source": [
    "quality_report_CTGAN_100 = evaluate_quality(\n",
    "    real_data=df_real,\n",
    "    synthetic_data=df_CTGAN_100,\n",
    "    metadata=metadata)\n",
    "quality_report_CTGAN_100"
   ]
  }
 ],
 "metadata": {
  "kernelspec": {
   "display_name": "Python 3",
   "language": "python",
   "name": "python3"
  },
  "language_info": {
   "codemirror_mode": {
    "name": "ipython",
    "version": 3
   },
   "file_extension": ".py",
   "mimetype": "text/x-python",
   "name": "python",
   "nbconvert_exporter": "python",
   "pygments_lexer": "ipython3",
   "version": "3.9.10"
  },
  "orig_nbformat": 4,
  "vscode": {
   "interpreter": {
    "hash": "a277570bceeeb00b25262093a773d52934552eedb15b485dd7ccf85dec1c7660"
   }
  }
 },
 "nbformat": 4,
 "nbformat_minor": 2
}
