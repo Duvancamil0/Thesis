{
 "cells": [
  {
   "cell_type": "code",
   "execution_count": 1,
   "metadata": {},
   "outputs": [
    {
     "data": {
      "text/html": [
       "<div>\n",
       "<style scoped>\n",
       "    .dataframe tbody tr th:only-of-type {\n",
       "        vertical-align: middle;\n",
       "    }\n",
       "\n",
       "    .dataframe tbody tr th {\n",
       "        vertical-align: top;\n",
       "    }\n",
       "\n",
       "    .dataframe thead th {\n",
       "        text-align: right;\n",
       "    }\n",
       "</style>\n",
       "<table border=\"1\" class=\"dataframe\">\n",
       "  <thead>\n",
       "    <tr style=\"text-align: right;\">\n",
       "      <th></th>\n",
       "      <th>Schedule</th>\n",
       "      <th>Budget</th>\n",
       "      <th>Risk_1</th>\n",
       "      <th>Risk_2</th>\n",
       "      <th>Risk_3</th>\n",
       "      <th>Project_Risk</th>\n",
       "      <th>Complexity</th>\n",
       "      <th>Type</th>\n",
       "      <th>Overrun</th>\n",
       "    </tr>\n",
       "  </thead>\n",
       "  <tbody>\n",
       "    <tr>\n",
       "      <th>0</th>\n",
       "      <td>short</td>\n",
       "      <td>small</td>\n",
       "      <td>yes</td>\n",
       "      <td>yes</td>\n",
       "      <td>yes</td>\n",
       "      <td>high</td>\n",
       "      <td>easy</td>\n",
       "      <td>A</td>\n",
       "      <td>unacceptable</td>\n",
       "    </tr>\n",
       "    <tr>\n",
       "      <th>1</th>\n",
       "      <td>short</td>\n",
       "      <td>large</td>\n",
       "      <td>yes</td>\n",
       "      <td>yes</td>\n",
       "      <td>yes</td>\n",
       "      <td>high</td>\n",
       "      <td>easy</td>\n",
       "      <td>A</td>\n",
       "      <td>unacceptable</td>\n",
       "    </tr>\n",
       "    <tr>\n",
       "      <th>2</th>\n",
       "      <td>short</td>\n",
       "      <td>small</td>\n",
       "      <td>yes</td>\n",
       "      <td>yes</td>\n",
       "      <td>yes</td>\n",
       "      <td>high</td>\n",
       "      <td>easy</td>\n",
       "      <td>A</td>\n",
       "      <td>unacceptable</td>\n",
       "    </tr>\n",
       "  </tbody>\n",
       "</table>\n",
       "</div>"
      ],
      "text/plain": [
       "  Schedule Budget Risk_1 Risk_2 Risk_3 Project_Risk Complexity Type  \\\n",
       "0    short  small    yes    yes    yes         high       easy    A   \n",
       "1    short  large    yes    yes    yes         high       easy    A   \n",
       "2    short  small    yes    yes    yes         high       easy    A   \n",
       "\n",
       "        Overrun  \n",
       "0  unacceptable  \n",
       "1  unacceptable  \n",
       "2  unacceptable  "
      ]
     },
     "execution_count": 1,
     "metadata": {},
     "output_type": "execute_result"
    }
   ],
   "source": [
    "import pandas as pd\n",
    "\n",
    "df_100 = pd.read_csv(\"/prm/Samples/stratified_100.csv\")\n",
    "df_100.head(3)"
   ]
  },
  {
   "cell_type": "code",
   "execution_count": 2,
   "metadata": {},
   "outputs": [
    {
     "name": "stdout",
     "output_type": "stream",
     "text": [
      "Auto detected data:\n",
      "\n"
     ]
    },
    {
     "data": {
      "text/plain": [
       "{\n",
       "    \"METADATA_SPEC_VERSION\": \"SINGLE_TABLE_V1\",\n",
       "    \"columns\": {\n",
       "        \"Schedule\": {\n",
       "            \"sdtype\": \"categorical\"\n",
       "        },\n",
       "        \"Budget\": {\n",
       "            \"sdtype\": \"categorical\"\n",
       "        },\n",
       "        \"Risk_1\": {\n",
       "            \"sdtype\": \"categorical\"\n",
       "        },\n",
       "        \"Risk_2\": {\n",
       "            \"sdtype\": \"categorical\"\n",
       "        },\n",
       "        \"Risk_3\": {\n",
       "            \"sdtype\": \"categorical\"\n",
       "        },\n",
       "        \"Project_Risk\": {\n",
       "            \"sdtype\": \"categorical\"\n",
       "        },\n",
       "        \"Complexity\": {\n",
       "            \"sdtype\": \"categorical\"\n",
       "        },\n",
       "        \"Type\": {\n",
       "            \"sdtype\": \"categorical\"\n",
       "        },\n",
       "        \"Overrun\": {\n",
       "            \"sdtype\": \"categorical\"\n",
       "        }\n",
       "    }\n",
       "}"
      ]
     },
     "execution_count": 2,
     "metadata": {},
     "output_type": "execute_result"
    }
   ],
   "source": [
    "from sdv.metadata import SingleTableMetadata\n",
    "\n",
    "metadata = SingleTableMetadata()\n",
    "metadata.detect_from_dataframe(data=df_100)\n",
    "print('Auto detected data:\\n')\n",
    "metadata"
   ]
  },
  {
   "cell_type": "code",
   "execution_count": 3,
   "metadata": {},
   "outputs": [],
   "source": [
    "metadata.save_to_json('/prm/Synthetic/metadata.json')"
   ]
  },
  {
   "cell_type": "code",
   "execution_count": 4,
   "metadata": {},
   "outputs": [
    {
     "name": "stderr",
     "output_type": "stream",
     "text": [
      "/Users/camilodavid/Library/r-miniconda-arm64/lib/python3.9/site-packages/tqdm/auto.py:22: TqdmWarning: IProgress not found. Please update jupyter and ipywidgets. See https://ipywidgets.readthedocs.io/en/stable/user_install.html\n",
      "  from .autonotebook import tqdm as notebook_tqdm\n"
     ]
    }
   ],
   "source": [
    "from sdv.single_table import TVAESynthesizer\n",
    "model_100 = TVAESynthesizer(metadata)\n",
    "model_100.fit(df_100)\n",
    "sports_100_syn = model_100.sample(num_rows=2000, output_file_path=\"/prm/Synthetic/TVAE/sports_100_syn.csv\")"
   ]
  },
  {
   "cell_type": "code",
   "execution_count": 6,
   "metadata": {},
   "outputs": [],
   "source": [
    "df_500 = pd.read_csv(\"/prm/Samples/stratified_500.csv\")\n",
    "model_500 = TVAESynthesizer(metadata)\n",
    "model_500.fit(df_500)\n",
    "sports_500_syn = model_500.sample(num_rows=10000, output_file_path=\"/prm/Synthetic/TVAE/sports_500_syn.csv\")"
   ]
  },
  {
   "cell_type": "code",
   "execution_count": 7,
   "metadata": {},
   "outputs": [],
   "source": [
    "df_1000 = pd.read_csv(\"/prm/Samples/stratified_1000.csv\")\n",
    "model_1000 = TVAESynthesizer(metadata)\n",
    "model_1000.fit(df_1000)\n",
    "sports_1000_syn = model_1000.sample(num_rows=20000, output_file_path=\"/prm/Synthetic/TVAE/sports_1000_syn.csv\")"
   ]
  }
 ],
 "metadata": {
  "kernelspec": {
   "display_name": "Python 3",
   "language": "python",
   "name": "python3"
  },
  "language_info": {
   "codemirror_mode": {
    "name": "ipython",
    "version": 3
   },
   "file_extension": ".py",
   "mimetype": "text/x-python",
   "name": "python",
   "nbconvert_exporter": "python",
   "pygments_lexer": "ipython3",
   "version": "3.9.10"
  },
  "orig_nbformat": 4,
  "vscode": {
   "interpreter": {
    "hash": "a277570bceeeb00b25262093a773d52934552eedb15b485dd7ccf85dec1c7660"
   }
  }
 },
 "nbformat": 4,
 "nbformat_minor": 2
}
