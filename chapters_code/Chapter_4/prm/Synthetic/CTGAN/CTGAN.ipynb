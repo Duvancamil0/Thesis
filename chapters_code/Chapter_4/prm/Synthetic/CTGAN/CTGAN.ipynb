{
 "cells": [
  {
   "cell_type": "code",
   "execution_count": 2,
   "metadata": {},
   "outputs": [],
   "source": [
    "import pandas as pd\n",
    "from sdv.metadata import SingleTableMetadata\n",
    "\n",
    "df_100 = pd.read_csv(\"/prm/Samples/stratified_100.csv\")\n",
    "metadata = SingleTableMetadata.load_from_json('/prm/Synthetic/metadata.json')"
   ]
  },
  {
   "cell_type": "code",
   "execution_count": 3,
   "metadata": {},
   "outputs": [
    {
     "name": "stderr",
     "output_type": "stream",
     "text": [
      "/Users/camilodavid/Library/r-miniconda-arm64/lib/python3.9/site-packages/tqdm/auto.py:22: TqdmWarning: IProgress not found. Please update jupyter and ipywidgets. See https://ipywidgets.readthedocs.io/en/stable/user_install.html\n",
      "  from .autonotebook import tqdm as notebook_tqdm\n"
     ]
    }
   ],
   "source": [
    "from sdv.single_table import CTGANSynthesizer\n",
    "model_100 = CTGANSynthesizer(metadata)"
   ]
  },
  {
   "cell_type": "code",
   "execution_count": 4,
   "metadata": {},
   "outputs": [],
   "source": [
    "model_100.fit(df_100)\n",
    "sports_100_syn = model_100.sample(num_rows=2000, output_file_path=\"/prm/Synthetic/CTGAN/sports_100_syn.csv\")\n"
   ]
  },
  {
   "cell_type": "code",
   "execution_count": 5,
   "metadata": {},
   "outputs": [],
   "source": [
    "df_500 = pd.read_csv(\"/prm/Samples/stratified_500.csv\")\n",
    "model_500 = CTGANSynthesizer(metadata)\n",
    "model_500.fit(df_500)\n",
    "sports_500_syn = model_500.sample(num_rows=10000, output_file_path=\"/prm/Synthetic/CTGAN/sports_500_syn.csv\")"
   ]
  },
  {
   "cell_type": "code",
   "execution_count": 6,
   "metadata": {},
   "outputs": [],
   "source": [
    "df_1000 = pd.read_csv(\"/prm/Samples/stratified_1000.csv\")\n",
    "model_1000 = CTGANSynthesizer(metadata)\n",
    "model_1000.fit(df_1000)\n",
    "sports_1000_syn = model_1000.sample(num_rows=20000, output_file_path=\"/prm/Synthetic/CTGAN/sports_1000_syn.csv\")"
   ]
  }
 ],
 "metadata": {
  "kernelspec": {
   "display_name": "Python 3",
   "language": "python",
   "name": "python3"
  },
  "language_info": {
   "codemirror_mode": {
    "name": "ipython",
    "version": 3
   },
   "file_extension": ".py",
   "mimetype": "text/x-python",
   "name": "python",
   "nbconvert_exporter": "python",
   "pygments_lexer": "ipython3",
   "version": "3.9.10"
  },
  "orig_nbformat": 4,
  "vscode": {
   "interpreter": {
    "hash": "a277570bceeeb00b25262093a773d52934552eedb15b485dd7ccf85dec1c7660"
   }
  }
 },
 "nbformat": 4,
 "nbformat_minor": 2
}
