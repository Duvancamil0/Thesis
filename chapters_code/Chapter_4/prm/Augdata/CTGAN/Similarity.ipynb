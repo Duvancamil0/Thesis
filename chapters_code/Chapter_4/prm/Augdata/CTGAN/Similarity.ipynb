{
 "cells": [
  {
   "attachments": {},
   "cell_type": "markdown",
   "metadata": {},
   "source": [
    "First we will compute the Column Shapes and the Column Pair Trends for the sample 100 dataset."
   ]
  },
  {
   "cell_type": "code",
   "execution_count": 17,
   "metadata": {},
   "outputs": [],
   "source": [
    "import pandas as pd\n",
    "\n",
    "df_real = pd.read_csv(\"/prm/Samples/stratified_100.csv\")\n",
    "aug_100_2 = pd.read_csv(\"/prm/Augdata/CTGAN/aug_100_2.csv\")\n",
    "aug_100_5 = pd.read_csv(\"/prm/Augdata/CTGAN/aug_100_5.csv\")\n",
    "aug_100_10 = pd.read_csv(\"/prm/Augdata/CTGAN/aug_100_10.csv\")\n",
    "aug_100_20 = pd.read_csv(\"/prm/Augdata/CTGAN/aug_100_20.csv\")"
   ]
  },
  {
   "attachments": {},
   "cell_type": "markdown",
   "metadata": {},
   "source": [
    "We evaluate the performance of augmented data 1:2"
   ]
  },
  {
   "cell_type": "code",
   "execution_count": 18,
   "metadata": {},
   "outputs": [
    {
     "name": "stderr",
     "output_type": "stream",
     "text": [
      "Creating report:   0%|          | 0/4 [00:00<?, ?it/s]"
     ]
    },
    {
     "name": "stderr",
     "output_type": "stream",
     "text": [
      "Creating report: 100%|██████████| 4/4 [00:00<00:00, 20.08it/s]"
     ]
    },
    {
     "name": "stdout",
     "output_type": "stream",
     "text": [
      "\n",
      "Overall Quality Score: 94.09%\n",
      "\n",
      "Properties:\n",
      "Column Shapes: 96.44%\n",
      "Column Pair Trends: 91.73%\n"
     ]
    },
    {
     "name": "stderr",
     "output_type": "stream",
     "text": [
      "\n"
     ]
    },
    {
     "data": {
      "text/plain": [
       "<sdmetrics.reports.single_table.quality_report.QualityReport at 0x16726e7c0>"
      ]
     },
     "execution_count": 18,
     "metadata": {},
     "output_type": "execute_result"
    }
   ],
   "source": [
    "from sdv.evaluation.single_table import evaluate_quality\n",
    "from sdv.metadata import SingleTableMetadata\n",
    "\n",
    "metadata = SingleTableMetadata.load_from_json('/prm/Synthetic/metadata.json')\n",
    "\n",
    "quality_report_CTGAN_100_2 = evaluate_quality(\n",
    "    real_data=df_real,\n",
    "    synthetic_data=aug_100_2,\n",
    "    metadata=metadata)\n",
    "quality_report_CTGAN_100_2"
   ]
  },
  {
   "attachments": {},
   "cell_type": "markdown",
   "metadata": {},
   "source": [
    "We evaluate the performance of augmented data 1:5"
   ]
  },
  {
   "cell_type": "code",
   "execution_count": 19,
   "metadata": {},
   "outputs": [
    {
     "name": "stderr",
     "output_type": "stream",
     "text": [
      "Creating report: 100%|██████████| 4/4 [00:00<00:00, 21.24it/s]"
     ]
    },
    {
     "name": "stdout",
     "output_type": "stream",
     "text": [
      "\n",
      "Overall Quality Score: 92.26%\n",
      "\n",
      "Properties:\n",
      "Column Shapes: 95.24%\n",
      "Column Pair Trends: 89.28%\n"
     ]
    },
    {
     "name": "stderr",
     "output_type": "stream",
     "text": [
      "\n"
     ]
    },
    {
     "data": {
      "text/plain": [
       "<sdmetrics.reports.single_table.quality_report.QualityReport at 0x16744e820>"
      ]
     },
     "execution_count": 19,
     "metadata": {},
     "output_type": "execute_result"
    }
   ],
   "source": [
    "quality_report_CTGAN_100_5 = evaluate_quality(\n",
    "    real_data=df_real,\n",
    "    synthetic_data=aug_100_5,\n",
    "    metadata=metadata)\n",
    "quality_report_CTGAN_100_5"
   ]
  },
  {
   "attachments": {},
   "cell_type": "markdown",
   "metadata": {},
   "source": [
    "We evaluate the performance of augmented data 1:10"
   ]
  },
  {
   "cell_type": "code",
   "execution_count": 20,
   "metadata": {},
   "outputs": [
    {
     "name": "stderr",
     "output_type": "stream",
     "text": [
      "Creating report: 100%|██████████| 4/4 [00:00<00:00, 20.22it/s]"
     ]
    },
    {
     "name": "stdout",
     "output_type": "stream",
     "text": [
      "\n",
      "Overall Quality Score: 92.01%\n",
      "\n",
      "Properties:\n",
      "Column Shapes: 95.08%\n",
      "Column Pair Trends: 88.94%\n"
     ]
    },
    {
     "name": "stderr",
     "output_type": "stream",
     "text": [
      "\n"
     ]
    },
    {
     "data": {
      "text/plain": [
       "<sdmetrics.reports.single_table.quality_report.QualityReport at 0x1672ff940>"
      ]
     },
     "execution_count": 20,
     "metadata": {},
     "output_type": "execute_result"
    }
   ],
   "source": [
    "quality_report_CTGAN_100_10 = evaluate_quality(\n",
    "    real_data=df_real,\n",
    "    synthetic_data=aug_100_10,\n",
    "    metadata=metadata)\n",
    "quality_report_CTGAN_100_10"
   ]
  },
  {
   "cell_type": "markdown",
   "metadata": {},
   "source": [
    "We evaluate the performance of augmented data 1:20"
   ]
  },
  {
   "cell_type": "code",
   "execution_count": 21,
   "metadata": {},
   "outputs": [
    {
     "name": "stderr",
     "output_type": "stream",
     "text": [
      "Creating report: 100%|██████████| 4/4 [00:00<00:00, 20.87it/s]"
     ]
    },
    {
     "name": "stdout",
     "output_type": "stream",
     "text": [
      "\n",
      "Overall Quality Score: 91.7%\n",
      "\n",
      "Properties:\n",
      "Column Shapes: 94.93%\n",
      "Column Pair Trends: 88.48%\n"
     ]
    },
    {
     "name": "stderr",
     "output_type": "stream",
     "text": [
      "\n"
     ]
    },
    {
     "data": {
      "text/plain": [
       "<sdmetrics.reports.single_table.quality_report.QualityReport at 0x1672d1e20>"
      ]
     },
     "execution_count": 21,
     "metadata": {},
     "output_type": "execute_result"
    }
   ],
   "source": [
    "quality_report_CTGAN_100_20 = evaluate_quality(\n",
    "    real_data=df_real,\n",
    "    synthetic_data=aug_100_20,\n",
    "    metadata=metadata)\n",
    "quality_report_CTGAN_100_20"
   ]
  },
  {
   "attachments": {},
   "cell_type": "markdown",
   "metadata": {},
   "source": [
    "Next we will compute the Column Shapes and the Column Pair Trends for the sample 500 dataset."
   ]
  },
  {
   "cell_type": "code",
   "execution_count": 22,
   "metadata": {},
   "outputs": [],
   "source": [
    "df_real = pd.read_csv(\"/prm/Samples/stratified_500.csv\")\n",
    "\n",
    "aug_500_2 = pd.read_csv(\"/prm/Augdata/CTGAN/aug_500_2.csv\")\n",
    "aug_500_5 = pd.read_csv(\"/prm/Augdata/CTGAN/aug_500_5.csv\")\n",
    "aug_500_10 = pd.read_csv(\"/prm/Augdata/CTGAN/aug_500_10.csv\")\n",
    "aug_500_20 = pd.read_csv(\"/prm/Augdata/CTGAN/aug_500_20.csv\")"
   ]
  },
  {
   "attachments": {},
   "cell_type": "markdown",
   "metadata": {},
   "source": [
    "We evaluate the performance of augmented data 1:2"
   ]
  },
  {
   "cell_type": "code",
   "execution_count": 23,
   "metadata": {},
   "outputs": [
    {
     "name": "stderr",
     "output_type": "stream",
     "text": [
      "Creating report:   0%|          | 0/4 [00:00<?, ?it/s]"
     ]
    },
    {
     "name": "stderr",
     "output_type": "stream",
     "text": [
      "Creating report: 100%|██████████| 4/4 [00:00<00:00, 19.15it/s]"
     ]
    },
    {
     "name": "stdout",
     "output_type": "stream",
     "text": [
      "\n",
      "Overall Quality Score: 92.77%\n",
      "\n",
      "Properties:\n",
      "Column Shapes: 94.54%\n",
      "Column Pair Trends: 91.0%\n"
     ]
    },
    {
     "name": "stderr",
     "output_type": "stream",
     "text": [
      "\n"
     ]
    },
    {
     "data": {
      "text/plain": [
       "<sdmetrics.reports.single_table.quality_report.QualityReport at 0x16744efd0>"
      ]
     },
     "execution_count": 23,
     "metadata": {},
     "output_type": "execute_result"
    }
   ],
   "source": [
    "quality_report_CTGAN_500_2 = evaluate_quality(\n",
    "    real_data=df_real,\n",
    "    synthetic_data=aug_500_2,\n",
    "    metadata=metadata)\n",
    "quality_report_CTGAN_500_2"
   ]
  },
  {
   "attachments": {},
   "cell_type": "markdown",
   "metadata": {},
   "source": [
    "We evaluate the performance of augmented data 1:5"
   ]
  },
  {
   "cell_type": "code",
   "execution_count": 24,
   "metadata": {},
   "outputs": [
    {
     "name": "stderr",
     "output_type": "stream",
     "text": [
      "Creating report: 100%|██████████| 4/4 [00:00<00:00, 20.14it/s]"
     ]
    },
    {
     "name": "stdout",
     "output_type": "stream",
     "text": [
      "\n",
      "Overall Quality Score: 91.05%\n",
      "\n",
      "Properties:\n",
      "Column Shapes: 93.25%\n",
      "Column Pair Trends: 88.86%\n"
     ]
    },
    {
     "name": "stderr",
     "output_type": "stream",
     "text": [
      "\n"
     ]
    },
    {
     "data": {
      "text/plain": [
       "<sdmetrics.reports.single_table.quality_report.QualityReport at 0x1672d1970>"
      ]
     },
     "execution_count": 24,
     "metadata": {},
     "output_type": "execute_result"
    }
   ],
   "source": [
    "quality_report_CTGAN_500_5 = evaluate_quality(\n",
    "    real_data=df_real,\n",
    "    synthetic_data=aug_500_5,\n",
    "    metadata=metadata)\n",
    "quality_report_CTGAN_500_5"
   ]
  },
  {
   "attachments": {},
   "cell_type": "markdown",
   "metadata": {},
   "source": [
    "We evaluate the performance of augmented data 1:10"
   ]
  },
  {
   "cell_type": "code",
   "execution_count": 25,
   "metadata": {},
   "outputs": [
    {
     "name": "stderr",
     "output_type": "stream",
     "text": [
      "Creating report: 100%|██████████| 4/4 [00:00<00:00, 18.24it/s]"
     ]
    },
    {
     "name": "stdout",
     "output_type": "stream",
     "text": [
      "\n",
      "Overall Quality Score: 90.26%\n",
      "\n",
      "Properties:\n",
      "Column Shapes: 92.66%\n",
      "Column Pair Trends: 87.86%\n"
     ]
    },
    {
     "name": "stderr",
     "output_type": "stream",
     "text": [
      "\n"
     ]
    },
    {
     "data": {
      "text/plain": [
       "<sdmetrics.reports.single_table.quality_report.QualityReport at 0x16725ef40>"
      ]
     },
     "execution_count": 25,
     "metadata": {},
     "output_type": "execute_result"
    }
   ],
   "source": [
    "quality_report_CTGAN_500_10 = evaluate_quality(\n",
    "    real_data=df_real,\n",
    "    synthetic_data=aug_500_10,\n",
    "    metadata=metadata)\n",
    "quality_report_CTGAN_500_10"
   ]
  },
  {
   "cell_type": "markdown",
   "metadata": {},
   "source": [
    "We evaluate the performance of augmented data 1:20"
   ]
  },
  {
   "cell_type": "code",
   "execution_count": 26,
   "metadata": {},
   "outputs": [
    {
     "name": "stderr",
     "output_type": "stream",
     "text": [
      "Creating report: 100%|██████████| 4/4 [00:00<00:00, 15.48it/s]"
     ]
    },
    {
     "name": "stdout",
     "output_type": "stream",
     "text": [
      "\n",
      "Overall Quality Score: 89.86%\n",
      "\n",
      "Properties:\n",
      "Column Shapes: 92.41%\n",
      "Column Pair Trends: 87.3%\n"
     ]
    },
    {
     "name": "stderr",
     "output_type": "stream",
     "text": [
      "\n"
     ]
    },
    {
     "data": {
      "text/plain": [
       "<sdmetrics.reports.single_table.quality_report.QualityReport at 0x11c4c4130>"
      ]
     },
     "execution_count": 26,
     "metadata": {},
     "output_type": "execute_result"
    }
   ],
   "source": [
    "quality_report_CTGAN_500_20 = evaluate_quality(\n",
    "    real_data=df_real,\n",
    "    synthetic_data=aug_500_20,\n",
    "    metadata=metadata)\n",
    "quality_report_CTGAN_500_20"
   ]
  },
  {
   "attachments": {},
   "cell_type": "markdown",
   "metadata": {},
   "source": [
    "Finally we will compute the Column Shapes and the Column Pair Trends for the sample 1000 dataset."
   ]
  },
  {
   "cell_type": "code",
   "execution_count": 27,
   "metadata": {},
   "outputs": [],
   "source": [
    "df_real = pd.read_csv(\"/prm/Samples/stratified_1000.csv\")\n",
    "aug_1000_2 = pd.read_csv(\"/prm/Augdata/CTGAN/aug_1000_2.csv\")\n",
    "aug_1000_5 = pd.read_csv(\"/prm/Augdata/CTGAN/aug_1000_5.csv\")\n",
    "aug_1000_10 = pd.read_csv(\"/prm/Augdata/CTGAN/aug_1000_10.csv\")\n",
    "aug_1000_20 = pd.read_csv(\"/prm/Augdata/CTGAN/aug_1000_20.csv\")"
   ]
  },
  {
   "attachments": {},
   "cell_type": "markdown",
   "metadata": {},
   "source": [
    "We evaluate the performance of augmented data 1:2"
   ]
  },
  {
   "cell_type": "code",
   "execution_count": 28,
   "metadata": {},
   "outputs": [
    {
     "name": "stderr",
     "output_type": "stream",
     "text": [
      "Creating report: 100%|██████████| 4/4 [00:00<00:00, 19.90it/s]"
     ]
    },
    {
     "name": "stdout",
     "output_type": "stream",
     "text": [
      "\n",
      "Overall Quality Score: 91.43%\n",
      "\n",
      "Properties:\n",
      "Column Shapes: 93.05%\n",
      "Column Pair Trends: 89.8%\n"
     ]
    },
    {
     "name": "stderr",
     "output_type": "stream",
     "text": [
      "\n"
     ]
    },
    {
     "data": {
      "text/plain": [
       "<sdmetrics.reports.single_table.quality_report.QualityReport at 0x1672d1a00>"
      ]
     },
     "execution_count": 28,
     "metadata": {},
     "output_type": "execute_result"
    }
   ],
   "source": [
    "quality_report_CTGAN_1000_2 = evaluate_quality(\n",
    "    real_data=df_real,\n",
    "    synthetic_data=aug_1000_2,\n",
    "    metadata=metadata)\n",
    "quality_report_CTGAN_1000_2"
   ]
  },
  {
   "attachments": {},
   "cell_type": "markdown",
   "metadata": {},
   "source": [
    "We evaluate the performance of augmented data 1:5"
   ]
  },
  {
   "cell_type": "code",
   "execution_count": 29,
   "metadata": {},
   "outputs": [
    {
     "name": "stderr",
     "output_type": "stream",
     "text": [
      "Creating report: 100%|██████████| 4/4 [00:00<00:00, 18.20it/s]"
     ]
    },
    {
     "name": "stdout",
     "output_type": "stream",
     "text": [
      "\n",
      "Overall Quality Score: 89.36%\n",
      "\n",
      "Properties:\n",
      "Column Shapes: 91.26%\n",
      "Column Pair Trends: 87.46%\n"
     ]
    },
    {
     "name": "stderr",
     "output_type": "stream",
     "text": [
      "\n"
     ]
    },
    {
     "data": {
      "text/plain": [
       "<sdmetrics.reports.single_table.quality_report.QualityReport at 0x167407100>"
      ]
     },
     "execution_count": 29,
     "metadata": {},
     "output_type": "execute_result"
    }
   ],
   "source": [
    "quality_report_CTGAN_1000_5 = evaluate_quality(\n",
    "    real_data=df_real,\n",
    "    synthetic_data=aug_1000_5,\n",
    "    metadata=metadata)\n",
    "quality_report_CTGAN_1000_5"
   ]
  },
  {
   "attachments": {},
   "cell_type": "markdown",
   "metadata": {},
   "source": [
    "We evaluate the performance of augmented data 1:10"
   ]
  },
  {
   "cell_type": "code",
   "execution_count": 30,
   "metadata": {},
   "outputs": [
    {
     "name": "stderr",
     "output_type": "stream",
     "text": [
      "Creating report: 100%|██████████| 4/4 [00:00<00:00, 16.30it/s]"
     ]
    },
    {
     "name": "stdout",
     "output_type": "stream",
     "text": [
      "\n",
      "Overall Quality Score: 88.09%\n",
      "\n",
      "Properties:\n",
      "Column Shapes: 90.2%\n",
      "Column Pair Trends: 85.98%\n"
     ]
    },
    {
     "name": "stderr",
     "output_type": "stream",
     "text": [
      "\n"
     ]
    },
    {
     "data": {
      "text/plain": [
       "<sdmetrics.reports.single_table.quality_report.QualityReport at 0x167407550>"
      ]
     },
     "execution_count": 30,
     "metadata": {},
     "output_type": "execute_result"
    }
   ],
   "source": [
    "quality_report_CTGAN_1000_10 = evaluate_quality(\n",
    "    real_data=df_real,\n",
    "    synthetic_data=aug_1000_10,\n",
    "    metadata=metadata)\n",
    "quality_report_CTGAN_1000_10"
   ]
  },
  {
   "cell_type": "markdown",
   "metadata": {},
   "source": [
    "We evaluate the performance of augmented data 1:20"
   ]
  },
  {
   "cell_type": "code",
   "execution_count": 32,
   "metadata": {},
   "outputs": [
    {
     "name": "stderr",
     "output_type": "stream",
     "text": [
      "Creating report: 100%|██████████| 4/4 [00:00<00:00, 11.78it/s]"
     ]
    },
    {
     "name": "stdout",
     "output_type": "stream",
     "text": [
      "\n",
      "Overall Quality Score: 87.66%\n",
      "\n",
      "Properties:\n",
      "Column Shapes: 89.88%\n",
      "Column Pair Trends: 85.44%\n"
     ]
    },
    {
     "name": "stderr",
     "output_type": "stream",
     "text": [
      "\n"
     ]
    },
    {
     "data": {
      "text/plain": [
       "<sdmetrics.reports.single_table.quality_report.QualityReport at 0x16749a160>"
      ]
     },
     "execution_count": 32,
     "metadata": {},
     "output_type": "execute_result"
    }
   ],
   "source": [
    "quality_report_CTGAN_1000_20 = evaluate_quality(\n",
    "    real_data=df_real,\n",
    "    synthetic_data=aug_1000_20,\n",
    "    metadata=metadata)\n",
    "quality_report_CTGAN_1000_20"
   ]
  }
 ],
 "metadata": {
  "kernelspec": {
   "display_name": "Python 3",
   "language": "python",
   "name": "python3"
  },
  "language_info": {
   "codemirror_mode": {
    "name": "ipython",
    "version": 3
   },
   "file_extension": ".py",
   "mimetype": "text/x-python",
   "name": "python",
   "nbconvert_exporter": "python",
   "pygments_lexer": "ipython3",
   "version": "3.9.10"
  },
  "orig_nbformat": 4,
  "vscode": {
   "interpreter": {
    "hash": "a277570bceeeb00b25262093a773d52934552eedb15b485dd7ccf85dec1c7660"
   }
  }
 },
 "nbformat": 4,
 "nbformat_minor": 2
}
