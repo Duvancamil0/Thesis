{
 "cells": [
  {
   "attachments": {},
   "cell_type": "markdown",
   "metadata": {},
   "source": [
    "First we will compute the Column Shapes and the Column Pair Trends for the sample 1000 dataset."
   ]
  },
  {
   "cell_type": "code",
   "execution_count": 1,
   "metadata": {},
   "outputs": [],
   "source": [
    "import pandas as pd\n",
    "\n",
    "df_real = pd.read_csv(\"/insurance/Samples/stratified_1000.csv\")\n",
    "df_mostly_1000 = pd.read_csv(\"/insurance/Synthetic/Mostly/insurance_1000_syn.csv\")\n",
    "df_TVAE_1000 = pd.read_csv(\"/insurance/Synthetic/TVAE/insurance_1000_syn.csv\")\n",
    "df_CTGAN_1000 = pd.read_csv(\"/insurance/Synthetic/CTGAN/insurance_1000_syn.csv\")"
   ]
  },
  {
   "attachments": {},
   "cell_type": "markdown",
   "metadata": {},
   "source": [
    "We evaluate the performance of Mostly AI"
   ]
  },
  {
   "cell_type": "code",
   "execution_count": 2,
   "metadata": {},
   "outputs": [
    {
     "name": "stderr",
     "output_type": "stream",
     "text": [
      "Creating report: 100%|██████████| 4/4 [00:03<00:00,  1.22it/s]"
     ]
    },
    {
     "name": "stdout",
     "output_type": "stream",
     "text": [
      "\n",
      "Overall Quality Score: 97.4%\n",
      "\n",
      "Properties:\n",
      "Column Shapes: 98.09%\n",
      "Column Pair Trends: 96.71%\n"
     ]
    },
    {
     "name": "stderr",
     "output_type": "stream",
     "text": [
      "\n"
     ]
    },
    {
     "data": {
      "text/plain": [
       "<sdmetrics.reports.single_table.quality_report.QualityReport at 0x1054b7fd0>"
      ]
     },
     "execution_count": 2,
     "metadata": {},
     "output_type": "execute_result"
    }
   ],
   "source": [
    "from sdv.evaluation.single_table import evaluate_quality\n",
    "from sdv.metadata import SingleTableMetadata\n",
    "\n",
    "metadata = SingleTableMetadata.load_from_json('/insurance/Synthetic/metadata.json')\n",
    "\n",
    "quality_report_mostly_1000 = evaluate_quality(\n",
    "    real_data=df_real,\n",
    "    synthetic_data=df_mostly_1000,\n",
    "    metadata=metadata)\n",
    "quality_report_mostly_1000"
   ]
  },
  {
   "attachments": {},
   "cell_type": "markdown",
   "metadata": {},
   "source": [
    "We evaluate the performance of TVAE"
   ]
  },
  {
   "cell_type": "code",
   "execution_count": 3,
   "metadata": {},
   "outputs": [
    {
     "name": "stderr",
     "output_type": "stream",
     "text": [
      "Creating report: 100%|██████████| 4/4 [00:03<00:00,  1.20it/s]"
     ]
    },
    {
     "name": "stdout",
     "output_type": "stream",
     "text": [
      "\n",
      "Overall Quality Score: 89.08%\n",
      "\n",
      "Properties:\n",
      "Column Shapes: 92.09%\n",
      "Column Pair Trends: 86.08%\n"
     ]
    },
    {
     "name": "stderr",
     "output_type": "stream",
     "text": [
      "\n"
     ]
    },
    {
     "data": {
      "text/plain": [
       "<sdmetrics.reports.single_table.quality_report.QualityReport at 0x1054b7850>"
      ]
     },
     "execution_count": 3,
     "metadata": {},
     "output_type": "execute_result"
    }
   ],
   "source": [
    "quality_report_TVAE_1000 = evaluate_quality(\n",
    "    real_data=df_real,\n",
    "    synthetic_data=df_TVAE_1000,\n",
    "    metadata=metadata)\n",
    "quality_report_TVAE_1000"
   ]
  },
  {
   "attachments": {},
   "cell_type": "markdown",
   "metadata": {},
   "source": [
    "We evaluate the performance of CTGAN"
   ]
  },
  {
   "cell_type": "code",
   "execution_count": 4,
   "metadata": {},
   "outputs": [
    {
     "name": "stderr",
     "output_type": "stream",
     "text": [
      "Creating report: 100%|██████████| 4/4 [00:03<00:00,  1.23it/s]"
     ]
    },
    {
     "name": "stdout",
     "output_type": "stream",
     "text": [
      "\n",
      "Overall Quality Score: 83.24%\n",
      "\n",
      "Properties:\n",
      "Column Shapes: 87.43%\n",
      "Column Pair Trends: 79.06%\n"
     ]
    },
    {
     "name": "stderr",
     "output_type": "stream",
     "text": [
      "\n"
     ]
    },
    {
     "data": {
      "text/plain": [
       "<sdmetrics.reports.single_table.quality_report.QualityReport at 0x1054b74f0>"
      ]
     },
     "execution_count": 4,
     "metadata": {},
     "output_type": "execute_result"
    }
   ],
   "source": [
    "quality_report_CTGAN_1000 = evaluate_quality(\n",
    "    real_data=df_real,\n",
    "    synthetic_data=df_CTGAN_1000,\n",
    "    metadata=metadata)\n",
    "quality_report_CTGAN_1000"
   ]
  },
  {
   "attachments": {},
   "cell_type": "markdown",
   "metadata": {},
   "source": [
    "Next we will compute the Column Shapes and the Column Pair Trends for the sample 500 dataset."
   ]
  },
  {
   "cell_type": "code",
   "execution_count": 5,
   "metadata": {},
   "outputs": [],
   "source": [
    "df_real = pd.read_csv(\"/insurance/Samples/stratified_500.csv\")\n",
    "df_mostly_500 = pd.read_csv(\"/insurance/Synthetic/Mostly/insurance_500_syn.csv\")\n",
    "df_TVAE_500 = pd.read_csv(\"/insurance/Synthetic/TVAE/insurance_500_syn.csv\")\n",
    "df_CTGAN_500 = pd.read_csv(\"/insurance/Synthetic/CTGAN/insurance_500_syn.csv\")"
   ]
  },
  {
   "attachments": {},
   "cell_type": "markdown",
   "metadata": {},
   "source": [
    "We evaluate the performance of Mostly AI"
   ]
  },
  {
   "cell_type": "code",
   "execution_count": 6,
   "metadata": {},
   "outputs": [
    {
     "name": "stderr",
     "output_type": "stream",
     "text": [
      "Creating report: 100%|██████████| 4/4 [00:02<00:00,  1.59it/s]"
     ]
    },
    {
     "name": "stdout",
     "output_type": "stream",
     "text": [
      "\n",
      "Overall Quality Score: 97.89%\n",
      "\n",
      "Properties:\n",
      "Column Shapes: 98.61%\n",
      "Column Pair Trends: 97.17%\n"
     ]
    },
    {
     "name": "stderr",
     "output_type": "stream",
     "text": [
      "\n"
     ]
    }
   ],
   "source": [
    "quality_report_mostly_500 = evaluate_quality(\n",
    "    real_data=df_real,\n",
    "    synthetic_data=df_mostly_500,\n",
    "    metadata=metadata)"
   ]
  },
  {
   "attachments": {},
   "cell_type": "markdown",
   "metadata": {},
   "source": [
    "We evaluate the performance of TVAE"
   ]
  },
  {
   "cell_type": "code",
   "execution_count": 7,
   "metadata": {},
   "outputs": [
    {
     "name": "stderr",
     "output_type": "stream",
     "text": [
      "Creating report: 100%|██████████| 4/4 [00:02<00:00,  1.56it/s]"
     ]
    },
    {
     "name": "stdout",
     "output_type": "stream",
     "text": [
      "\n",
      "Overall Quality Score: 88.78%\n",
      "\n",
      "Properties:\n",
      "Column Shapes: 91.62%\n",
      "Column Pair Trends: 85.94%\n"
     ]
    },
    {
     "name": "stderr",
     "output_type": "stream",
     "text": [
      "\n"
     ]
    }
   ],
   "source": [
    "quality_report_TVAE_500 = evaluate_quality(\n",
    "    real_data=df_real,\n",
    "    synthetic_data=df_TVAE_500,\n",
    "    metadata=metadata)"
   ]
  },
  {
   "attachments": {},
   "cell_type": "markdown",
   "metadata": {},
   "source": [
    "We evaluate the performance of CTGAN"
   ]
  },
  {
   "cell_type": "code",
   "execution_count": 8,
   "metadata": {},
   "outputs": [
    {
     "name": "stderr",
     "output_type": "stream",
     "text": [
      "Creating report: 100%|██████████| 4/4 [00:02<00:00,  1.60it/s]"
     ]
    },
    {
     "name": "stdout",
     "output_type": "stream",
     "text": [
      "\n",
      "Overall Quality Score: 87.61%\n",
      "\n",
      "Properties:\n",
      "Column Shapes: 91.59%\n",
      "Column Pair Trends: 83.62%\n"
     ]
    },
    {
     "name": "stderr",
     "output_type": "stream",
     "text": [
      "\n"
     ]
    },
    {
     "data": {
      "text/plain": [
       "<sdmetrics.reports.single_table.quality_report.QualityReport at 0x1754efd00>"
      ]
     },
     "execution_count": 8,
     "metadata": {},
     "output_type": "execute_result"
    }
   ],
   "source": [
    "quality_report_CTGAN_500 = evaluate_quality(\n",
    "    real_data=df_real,\n",
    "    synthetic_data=df_CTGAN_500,\n",
    "    metadata=metadata)\n",
    "quality_report_CTGAN_500"
   ]
  },
  {
   "attachments": {},
   "cell_type": "markdown",
   "metadata": {},
   "source": [
    "Finally we will compute the Column Shapes and the Column Pair Trends for the sample 100 dataset."
   ]
  },
  {
   "cell_type": "code",
   "execution_count": 9,
   "metadata": {},
   "outputs": [],
   "source": [
    "df_real = pd.read_csv(\"/insurance/Samples/stratified_100.csv\")\n",
    "df_mostly_100 = pd.read_csv(\"/insurance/Synthetic/Mostly/insurance_100_syn.csv\")\n",
    "df_TVAE_100 = pd.read_csv(\"/insurance/Synthetic/TVAE/insurance_100_syn.csv\")\n",
    "df_CTGAN_100 = pd.read_csv(\"/insurance/Synthetic/CTGAN/insurance_100_syn.csv\")"
   ]
  },
  {
   "attachments": {},
   "cell_type": "markdown",
   "metadata": {},
   "source": [
    "We evaluate the performance of Mostly AI"
   ]
  },
  {
   "cell_type": "code",
   "execution_count": 10,
   "metadata": {},
   "outputs": [
    {
     "name": "stderr",
     "output_type": "stream",
     "text": [
      "Creating report: 100%|██████████| 4/4 [00:01<00:00,  2.06it/s]"
     ]
    },
    {
     "name": "stdout",
     "output_type": "stream",
     "text": [
      "\n",
      "Overall Quality Score: 96.06%\n",
      "\n",
      "Properties:\n",
      "Column Shapes: 97.79%\n",
      "Column Pair Trends: 94.33%\n"
     ]
    },
    {
     "name": "stderr",
     "output_type": "stream",
     "text": [
      "\n"
     ]
    },
    {
     "data": {
      "text/plain": [
       "<sdmetrics.reports.single_table.quality_report.QualityReport at 0x17e57e580>"
      ]
     },
     "execution_count": 10,
     "metadata": {},
     "output_type": "execute_result"
    }
   ],
   "source": [
    "quality_report_mostly_100 = evaluate_quality(\n",
    "    real_data=df_real,\n",
    "    synthetic_data=df_mostly_100,\n",
    "    metadata=metadata)\n",
    "quality_report_mostly_100"
   ]
  },
  {
   "attachments": {},
   "cell_type": "markdown",
   "metadata": {},
   "source": [
    "We evaluate the performance of TVAE"
   ]
  },
  {
   "cell_type": "code",
   "execution_count": 11,
   "metadata": {},
   "outputs": [
    {
     "name": "stderr",
     "output_type": "stream",
     "text": [
      "Creating report: 100%|██████████| 4/4 [00:02<00:00,  1.99it/s]"
     ]
    },
    {
     "name": "stdout",
     "output_type": "stream",
     "text": [
      "\n",
      "Overall Quality Score: 86.81%\n",
      "\n",
      "Properties:\n",
      "Column Shapes: 90.35%\n",
      "Column Pair Trends: 83.27%\n"
     ]
    },
    {
     "name": "stderr",
     "output_type": "stream",
     "text": [
      "\n"
     ]
    },
    {
     "data": {
      "text/plain": [
       "<sdmetrics.reports.single_table.quality_report.QualityReport at 0x1755273d0>"
      ]
     },
     "execution_count": 11,
     "metadata": {},
     "output_type": "execute_result"
    }
   ],
   "source": [
    "quality_report_TVAE_100 = evaluate_quality(\n",
    "    real_data=df_real,\n",
    "    synthetic_data=df_TVAE_100,\n",
    "    metadata=metadata)\n",
    "quality_report_TVAE_100"
   ]
  },
  {
   "attachments": {},
   "cell_type": "markdown",
   "metadata": {},
   "source": [
    "We evaluate the performance of CTGAN"
   ]
  },
  {
   "cell_type": "code",
   "execution_count": 12,
   "metadata": {},
   "outputs": [
    {
     "name": "stderr",
     "output_type": "stream",
     "text": [
      "Creating report: 100%|██████████| 4/4 [00:01<00:00,  2.11it/s]"
     ]
    },
    {
     "name": "stdout",
     "output_type": "stream",
     "text": [
      "\n",
      "Overall Quality Score: 87.4%\n",
      "\n",
      "Properties:\n",
      "Column Shapes: 91.91%\n",
      "Column Pair Trends: 82.9%\n"
     ]
    },
    {
     "name": "stderr",
     "output_type": "stream",
     "text": [
      "\n"
     ]
    },
    {
     "data": {
      "text/plain": [
       "<sdmetrics.reports.single_table.quality_report.QualityReport at 0x1754249a0>"
      ]
     },
     "execution_count": 12,
     "metadata": {},
     "output_type": "execute_result"
    }
   ],
   "source": [
    "quality_report_CTGAN_100 = evaluate_quality(\n",
    "    real_data=df_real,\n",
    "    synthetic_data=df_CTGAN_100,\n",
    "    metadata=metadata)\n",
    "quality_report_CTGAN_100"
   ]
  }
 ],
 "metadata": {
  "kernelspec": {
   "display_name": "Python 3",
   "language": "python",
   "name": "python3"
  },
  "language_info": {
   "codemirror_mode": {
    "name": "ipython",
    "version": 3
   },
   "file_extension": ".py",
   "mimetype": "text/x-python",
   "name": "python",
   "nbconvert_exporter": "python",
   "pygments_lexer": "ipython3",
   "version": "3.9.10"
  },
  "orig_nbformat": 4,
  "vscode": {
   "interpreter": {
    "hash": "a277570bceeeb00b25262093a773d52934552eedb15b485dd7ccf85dec1c7660"
   }
  }
 },
 "nbformat": 4,
 "nbformat_minor": 2
}
