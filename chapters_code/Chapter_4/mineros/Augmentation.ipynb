{
 "cells": [
  {
   "cell_type": "code",
   "execution_count": 11,
   "metadata": {},
   "outputs": [
    {
     "name": "stdout",
     "output_type": "stream",
     "text": [
      "Auto detected data:\n",
      "\n"
     ]
    },
    {
     "data": {
      "text/plain": [
       "{\n",
       "    \"METADATA_SPEC_VERSION\": \"SINGLE_TABLE_V1\",\n",
       "    \"columns\": {\n",
       "        \"Budget_category\": {\n",
       "            \"sdtype\": \"categorical\"\n",
       "        },\n",
       "        \"Type\": {\n",
       "            \"sdtype\": \"categorical\"\n",
       "        },\n",
       "        \"Labor_Risk\": {\n",
       "            \"sdtype\": \"numerical\"\n",
       "        },\n",
       "        \"Analysis_Risk\": {\n",
       "            \"sdtype\": \"numerical\"\n",
       "        },\n",
       "        \"Decision_Risk\": {\n",
       "            \"sdtype\": \"numerical\"\n",
       "        },\n",
       "        \"Engineering_Risk\": {\n",
       "            \"sdtype\": \"numerical\"\n",
       "        },\n",
       "        \"Provider_Risk\": {\n",
       "            \"sdtype\": \"numerical\"\n",
       "        },\n",
       "        \"Weather_Risk\": {\n",
       "            \"sdtype\": \"numerical\"\n",
       "        },\n",
       "        \"Fabrication_Risk\": {\n",
       "            \"sdtype\": \"numerical\"\n",
       "        },\n",
       "        \"Schedule_category\": {\n",
       "            \"sdtype\": \"categorical\"\n",
       "        },\n",
       "        \"Time_Overrun_category\": {\n",
       "            \"sdtype\": \"categorical\"\n",
       "        }\n",
       "    }\n",
       "}"
      ]
     },
     "execution_count": 11,
     "metadata": {},
     "output_type": "execute_result"
    }
   ],
   "source": [
    "import pandas as pd\n",
    "\n",
    "df = pd.read_csv(\"/Users/camilodavid/Library/CloudStorage/OneDrive-Personal/Tohoku U/PhD/Papers/4rd Paper/Code/Seed1/mineros/AI sampling/discrete.csv\")\n",
    "\n",
    "from sdv.metadata import SingleTableMetadata\n",
    "\n",
    "metadata = SingleTableMetadata()\n",
    "metadata.detect_from_dataframe(data=df)\n",
    "print('Auto detected data:\\n')\n",
    "metadata"
   ]
  },
  {
   "cell_type": "markdown",
   "metadata": {},
   "source": [
    "First let's create a simple synthesizer with the default values of the TVAE algorithm"
   ]
  },
  {
   "cell_type": "code",
   "execution_count": 12,
   "metadata": {},
   "outputs": [
    {
     "name": "stderr",
     "output_type": "stream",
     "text": [
      "/Users/camilodavid/Library/r-miniconda-arm64/lib/python3.9/site-packages/rdt/transformers/base.py:132: FutureWarning: Future versions of RDT will not support the 'model_missing_values' parameter. Please switch to using the 'missing_value_generation' parameter to select your strategy.\n",
      "  warnings.warn(\n",
      "/Users/camilodavid/Library/r-miniconda-arm64/lib/python3.9/site-packages/rdt/transformers/base.py:132: FutureWarning: Future versions of RDT will not support the 'model_missing_values' parameter. Please switch to using the 'missing_value_generation' parameter to select your strategy.\n",
      "  warnings.warn(\n",
      "/Users/camilodavid/Library/r-miniconda-arm64/lib/python3.9/site-packages/rdt/transformers/base.py:132: FutureWarning: Future versions of RDT will not support the 'model_missing_values' parameter. Please switch to using the 'missing_value_generation' parameter to select your strategy.\n",
      "  warnings.warn(\n",
      "/Users/camilodavid/Library/r-miniconda-arm64/lib/python3.9/site-packages/rdt/transformers/base.py:132: FutureWarning: Future versions of RDT will not support the 'model_missing_values' parameter. Please switch to using the 'missing_value_generation' parameter to select your strategy.\n",
      "  warnings.warn(\n",
      "/Users/camilodavid/Library/r-miniconda-arm64/lib/python3.9/site-packages/rdt/transformers/base.py:132: FutureWarning: Future versions of RDT will not support the 'model_missing_values' parameter. Please switch to using the 'missing_value_generation' parameter to select your strategy.\n",
      "  warnings.warn(\n",
      "/Users/camilodavid/Library/r-miniconda-arm64/lib/python3.9/site-packages/rdt/transformers/base.py:132: FutureWarning: Future versions of RDT will not support the 'model_missing_values' parameter. Please switch to using the 'missing_value_generation' parameter to select your strategy.\n",
      "  warnings.warn(\n",
      "/Users/camilodavid/Library/r-miniconda-arm64/lib/python3.9/site-packages/rdt/transformers/base.py:132: FutureWarning: Future versions of RDT will not support the 'model_missing_values' parameter. Please switch to using the 'missing_value_generation' parameter to select your strategy.\n",
      "  warnings.warn(\n",
      "/Users/camilodavid/Library/r-miniconda-arm64/lib/python3.9/site-packages/rdt/transformers/base.py:132: FutureWarning: Future versions of RDT will not support the 'model_missing_values' parameter. Please switch to using the 'missing_value_generation' parameter to select your strategy.\n",
      "  warnings.warn(\n",
      "/Users/camilodavid/Library/r-miniconda-arm64/lib/python3.9/site-packages/sdv/single_table/base.py:259: UserWarning: Replacing the default transformer for column 'Schedule_category' might impact the quality of your synthetic data.\n",
      "  warnings.warn(\n",
      "/Users/camilodavid/Library/r-miniconda-arm64/lib/python3.9/site-packages/sdv/single_table/base.py:259: UserWarning: Replacing the default transformer for column 'Time_Overrun_category' might impact the quality of your synthetic data.\n",
      "  warnings.warn(\n",
      "/Users/camilodavid/Library/r-miniconda-arm64/lib/python3.9/site-packages/sdv/single_table/base.py:259: UserWarning: Replacing the default transformer for column 'Budget_category' might impact the quality of your synthetic data.\n",
      "  warnings.warn(\n",
      "/Users/camilodavid/Library/r-miniconda-arm64/lib/python3.9/site-packages/sdv/single_table/base.py:259: UserWarning: Replacing the default transformer for column 'Type' might impact the quality of your synthetic data.\n",
      "  warnings.warn(\n",
      "/Users/camilodavid/Library/r-miniconda-arm64/lib/python3.9/site-packages/rdt/hyper_transformer.py:398: UserWarning: For this change to take effect, please refit your data using 'fit' or 'fit_transform'.\n",
      "  warnings.warn(self._REFIT_MESSAGE)\n",
      "/Users/camilodavid/Library/r-miniconda-arm64/lib/python3.9/site-packages/rdt/transformers/base.py:132: FutureWarning: Future versions of RDT will not support the 'model_missing_values' parameter. Please switch to using the 'missing_value_generation' parameter to select your strategy.\n",
      "  warnings.warn(\n",
      "/Users/camilodavid/Library/r-miniconda-arm64/lib/python3.9/site-packages/rdt/transformers/base.py:132: FutureWarning: Future versions of RDT will not support the 'model_missing_values' parameter. Please switch to using the 'missing_value_generation' parameter to select your strategy.\n",
      "  warnings.warn(\n",
      "/Users/camilodavid/Library/r-miniconda-arm64/lib/python3.9/site-packages/rdt/transformers/base.py:132: FutureWarning: Future versions of RDT will not support the 'model_missing_values' parameter. Please switch to using the 'missing_value_generation' parameter to select your strategy.\n",
      "  warnings.warn(\n",
      "/Users/camilodavid/Library/r-miniconda-arm64/lib/python3.9/site-packages/rdt/transformers/base.py:132: FutureWarning: Future versions of RDT will not support the 'model_missing_values' parameter. Please switch to using the 'missing_value_generation' parameter to select your strategy.\n",
      "  warnings.warn(\n",
      "/Users/camilodavid/Library/r-miniconda-arm64/lib/python3.9/site-packages/rdt/transformers/base.py:132: FutureWarning: Future versions of RDT will not support the 'model_missing_values' parameter. Please switch to using the 'missing_value_generation' parameter to select your strategy.\n",
      "  warnings.warn(\n",
      "/Users/camilodavid/Library/r-miniconda-arm64/lib/python3.9/site-packages/rdt/transformers/base.py:132: FutureWarning: Future versions of RDT will not support the 'model_missing_values' parameter. Please switch to using the 'missing_value_generation' parameter to select your strategy.\n",
      "  warnings.warn(\n",
      "/Users/camilodavid/Library/r-miniconda-arm64/lib/python3.9/site-packages/rdt/transformers/base.py:132: FutureWarning: Future versions of RDT will not support the 'model_missing_values' parameter. Please switch to using the 'missing_value_generation' parameter to select your strategy.\n",
      "  warnings.warn(\n"
     ]
    }
   ],
   "source": [
    "from sdv.single_table import TVAESynthesizer\n",
    "from rdt.transformers.categorical import LabelEncoder, OrderedUniformEncoder\n",
    "from sdv.single_table import TVAESynthesizer\n",
    "from sdv.evaluation.single_table import evaluate_quality\n",
    "\n",
    "synthesizer = TVAESynthesizer(\n",
    "    metadata,\n",
    "    batch_size=8,  # smaller batch size, should be evenly divisible by pac\n",
    "    #pac=2, # larger means each individual's data in the training set has less influence on the output, which makes it harder to reverse-engineer the initial training data from the synthetic data.\n",
    "    compress_dims=(64, 64),\n",
    "    decompress_dims=(64, 64),\n",
    "    embedding_dim=64,  # smaller for a smaller dataset\n",
    "    epochs=3000,   # More epochs for small datasets\n",
    "    loss_factor=6.0,  # Can be increased if synthetic data is not similar to original\n",
    ")\n",
    "\n",
    "synthesizer.load_custom_constraint_classes(\n",
    "    filepath='/Users/camilodavid/Library/CloudStorage/OneDrive-Personal/Tohoku U/PhD/Papers/4rd Paper/Code/Seed1/mineros/AI sampling/custom_constraint_template.py',\n",
    "    class_names=['RiskOverrunConstraint']\n",
    ")\n",
    "\n",
    "my_constraint = {\n",
    "    'constraint_class': 'RiskOverrunConstraint',\n",
    "    'constraint_parameters': {\n",
    "        'column_names': ['Labor_Risk', 'Analysis_Risk', 'Decision_Risk', 'Engineering_Risk', 'Provider_Risk', 'Weather_Risk', 'Fabrication_Risk'],\n",
    "        'extra_parameter': None\n",
    "    }\n",
    "}\n",
    "\n",
    "synthesizer.add_constraints([my_constraint])\n",
    "\n",
    "synthesizer.fit(df)\n",
    "\n",
    "cattime_transformer = OrderedUniformEncoder(order=['[0,0.16]', '(0.16,0.26]','(0.26,1]'])\n",
    "catcost_transformer = OrderedUniformEncoder(order=['Small', 'Medium', 'Large'])\n",
    "catoverrun_transformer = OrderedUniformEncoder(order=['[0,0.12]','(0.12,0.43]','(0.43,1]'])\n",
    "type_transformer = LabelEncoder()\n",
    "\n",
    "synthesizer.update_transformers(column_name_to_transformer={\n",
    "'Schedule_category': cattime_transformer,\n",
    "'Time_Overrun_category': catoverrun_transformer,\n",
    "'Budget_category': catcost_transformer,\n",
    "'Type': type_transformer,\n",
    "'Labor_Risk': None,\n",
    "'Analysis_Risk': None,\n",
    "'Decision_Risk': None,\n",
    "'Engineering_Risk': None,\n",
    "'Provider_Risk': None,\n",
    "'Weather_Risk': None,\n",
    "'Fabrication_Risk': None\n",
    "})\n",
    "\n",
    "synthesizer.fit(df)\n"
   ]
  },
  {
   "cell_type": "code",
   "execution_count": 13,
   "metadata": {},
   "outputs": [
    {
     "name": "stderr",
     "output_type": "stream",
     "text": [
      "Sampling rows: 100%|██████████| 405/405 [00:00<00:00, 7245.22it/s]\n",
      "/var/folders/1m/76scws4n60v0c4p8djp7sld80000gn/T/ipykernel_89291/974578295.py:2: FutureWarning: The frame.append method is deprecated and will be removed from pandas in a future version. Use pandas.concat instead.\n",
      "  aug = syn.append(df)\n",
      "Creating report: 100%|██████████| 4/4 [00:00<00:00, 52.10it/s]\n"
     ]
    },
    {
     "name": "stdout",
     "output_type": "stream",
     "text": [
      "\n",
      "Overall Quality Score: 95.85%\n",
      "\n",
      "Properties:\n",
      "Column Shapes: 96.69%\n",
      "Column Pair Trends: 95.01%\n"
     ]
    }
   ],
   "source": [
    "syn = synthesizer.sample(num_rows=405)\n",
    "aug = syn.append(df)\n",
    "aug.to_csv(\"/Users/camilodavid/Library/CloudStorage/OneDrive-Personal/Tohoku U/PhD/Papers/4rd Paper/Code/Seed1/mineros/AI sampling/aug.csv\", index=False)\n",
    "\n",
    "quality_report = evaluate_quality(real_data=df, synthetic_data=aug, metadata=metadata)"
   ]
  },
  {
   "cell_type": "markdown",
   "metadata": {},
   "source": [
    "Let us do conditional sampling with the conditions of the two projects that we will use to illustrate the usefulness of this approach"
   ]
  },
  {
   "cell_type": "code",
   "execution_count": 26,
   "metadata": {},
   "outputs": [
    {
     "name": "stderr",
     "output_type": "stream",
     "text": [
      "Sampling conditions: 100%|██████████| 405/405 [00:00<00:00, 2148.78it/s]\n"
     ]
    }
   ],
   "source": [
    "from sdv.sampling import Condition\n",
    "\n",
    "project_182_183 = Condition(\n",
    "    num_rows=405,\n",
    "    column_values={'Budget_category': 'Medium', 'Schedule_category': '[0,0.16]', 'Type': 'Sustainment'}\n",
    ")\n",
    "\n",
    "conditional_data = synthesizer.sample_from_conditions(\n",
    "    conditions=[project_182_183],\n",
    "    output_file_path=\"/Users/camilodavid/Library/CloudStorage/OneDrive-Personal/Tohoku U/PhD/Papers/4rd Paper/Code/Seed1/mineros/AI sampling/conditional_data.csv\"\n",
    ")"
   ]
  },
  {
   "cell_type": "code",
   "execution_count": 25,
   "metadata": {},
   "outputs": [
    {
     "name": "stderr",
     "output_type": "stream",
     "text": [
      "Sampling conditions: 100%|██████████| 10000/10000 [00:03<00:00, 2794.62it/s]\n"
     ]
    }
   ],
   "source": [
    "project_183 = Condition(\n",
    "    num_rows=10000,\n",
    "    column_values={'Budget_category': 'Medium', 'Schedule_category': '[0,0.16]', 'Type': 'Sustainment', 'Provider_Risk' : 1}\n",
    ")\n",
    "\n",
    "conditional_data2 = synthesizer.sample_from_conditions(\n",
    "    conditions=[project_183],\n",
    "    output_file_path=\"/Users/camilodavid/Library/CloudStorage/OneDrive-Personal/Tohoku U/PhD/Papers/4rd Paper/Code/Seed1/mineros/AI sampling/conditional_data2.csv\"\n",
    ")"
   ]
  }
 ],
 "metadata": {
  "kernelspec": {
   "display_name": "Python 3",
   "language": "python",
   "name": "python3"
  },
  "language_info": {
   "codemirror_mode": {
    "name": "ipython",
    "version": 3
   },
   "file_extension": ".py",
   "mimetype": "text/x-python",
   "name": "python",
   "nbconvert_exporter": "python",
   "pygments_lexer": "ipython3",
   "version": "3.9.10"
  },
  "orig_nbformat": 4,
  "vscode": {
   "interpreter": {
    "hash": "a277570bceeeb00b25262093a773d52934552eedb15b485dd7ccf85dec1c7660"
   }
  }
 },
 "nbformat": 4,
 "nbformat_minor": 2
}
