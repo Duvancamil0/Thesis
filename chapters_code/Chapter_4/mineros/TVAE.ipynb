{
 "cells": [
  {
   "cell_type": "code",
   "execution_count": 22,
   "metadata": {},
   "outputs": [
    {
     "name": "stdout",
     "output_type": "stream",
     "text": [
      "<class 'pandas.core.frame.DataFrame'>\n",
      "Int64Index: 81 entries, 0 to 82\n",
      "Data columns (total 11 columns):\n",
      " #   Column                 Non-Null Count  Dtype \n",
      "---  ------                 --------------  ----- \n",
      " 0   Schedule_category      81 non-null     object\n",
      " 1   Time_Overrun_category  81 non-null     int64 \n",
      " 2   Budget_category        81 non-null     object\n",
      " 3   Type                   81 non-null     object\n",
      " 4   Labor_Risk             81 non-null     int64 \n",
      " 5   Analysis_Risk          81 non-null     int64 \n",
      " 6   Decision_Risk          81 non-null     int64 \n",
      " 7   Engineering_Risk       81 non-null     int64 \n",
      " 8   Provider_Risk          81 non-null     int64 \n",
      " 9   Weather_Risk           81 non-null     int64 \n",
      " 10  Fabrication_Risk       81 non-null     int64 \n",
      "dtypes: int64(8), object(3)\n",
      "memory usage: 7.6+ KB\n"
     ]
    }
   ],
   "source": [
    "import pandas as pd\n",
    "\n",
    "df = pd.read_csv(\"/Users/camilodavid/Library/CloudStorage/OneDrive-Personal/Tohoku U/PhD/Papers/4rd Paper/Code/Seed1/mineros/AI sampling/data.csv\")\n",
    "df = df[~df['ID'].isin([182, 183])]\n",
    "df = df[['Schedule_category', 'Time_Overrun_category', 'Budget_category', 'Type', 'Labor_Risk', \n",
    "         'Analysis_Risk', 'Decision_Risk', 'Engineering_Risk', 'Provider_Risk', 'Weather_Risk', 'Fabrication_Risk']]\n",
    "\n",
    "df.info()"
   ]
  },
  {
   "cell_type": "markdown",
   "metadata": {},
   "source": [
    "Detect the metadata"
   ]
  },
  {
   "cell_type": "code",
   "execution_count": 23,
   "metadata": {},
   "outputs": [
    {
     "name": "stdout",
     "output_type": "stream",
     "text": [
      "Auto detected data:\n",
      "\n"
     ]
    },
    {
     "data": {
      "text/plain": [
       "{\n",
       "    \"columns\": {\n",
       "        \"Schedule_category\": {\n",
       "            \"sdtype\": \"categorical\"\n",
       "        },\n",
       "        \"Time_Overrun_category\": {\n",
       "            \"sdtype\": \"numerical\"\n",
       "        },\n",
       "        \"Budget_category\": {\n",
       "            \"sdtype\": \"categorical\"\n",
       "        },\n",
       "        \"Type\": {\n",
       "            \"sdtype\": \"categorical\"\n",
       "        },\n",
       "        \"Labor_Risk\": {\n",
       "            \"sdtype\": \"numerical\"\n",
       "        },\n",
       "        \"Analysis_Risk\": {\n",
       "            \"sdtype\": \"numerical\"\n",
       "        },\n",
       "        \"Decision_Risk\": {\n",
       "            \"sdtype\": \"numerical\"\n",
       "        },\n",
       "        \"Engineering_Risk\": {\n",
       "            \"sdtype\": \"numerical\"\n",
       "        },\n",
       "        \"Provider_Risk\": {\n",
       "            \"sdtype\": \"numerical\"\n",
       "        },\n",
       "        \"Weather_Risk\": {\n",
       "            \"sdtype\": \"numerical\"\n",
       "        },\n",
       "        \"Fabrication_Risk\": {\n",
       "            \"sdtype\": \"numerical\"\n",
       "        }\n",
       "    },\n",
       "    \"METADATA_SPEC_VERSION\": \"SINGLE_TABLE_V1\"\n",
       "}"
      ]
     },
     "execution_count": 23,
     "metadata": {},
     "output_type": "execute_result"
    }
   ],
   "source": [
    "from sdv.metadata import SingleTableMetadata\n",
    "\n",
    "metadata = SingleTableMetadata()\n",
    "metadata.detect_from_dataframe(data=df)\n",
    "print('Auto detected data:\\n')\n",
    "metadata"
   ]
  },
  {
   "cell_type": "markdown",
   "metadata": {},
   "source": [
    "First let's create a simple synthesizer with the default values of the TVAE algorithm"
   ]
  },
  {
   "cell_type": "code",
   "execution_count": 24,
   "metadata": {},
   "outputs": [
    {
     "name": "stderr",
     "output_type": "stream",
     "text": [
      "/Users/camilodavid/Library/r-miniconda-arm64/lib/python3.9/site-packages/rdt/transformers/base.py:132: FutureWarning: Future versions of RDT will not support the 'model_missing_values' parameter. Please switch to using the 'missing_value_generation' parameter to select your strategy.\n",
      "  warnings.warn(\n",
      "/Users/camilodavid/Library/r-miniconda-arm64/lib/python3.9/site-packages/rdt/transformers/base.py:132: FutureWarning: Future versions of RDT will not support the 'model_missing_values' parameter. Please switch to using the 'missing_value_generation' parameter to select your strategy.\n",
      "  warnings.warn(\n",
      "/Users/camilodavid/Library/r-miniconda-arm64/lib/python3.9/site-packages/rdt/transformers/base.py:132: FutureWarning: Future versions of RDT will not support the 'model_missing_values' parameter. Please switch to using the 'missing_value_generation' parameter to select your strategy.\n",
      "  warnings.warn(\n",
      "/Users/camilodavid/Library/r-miniconda-arm64/lib/python3.9/site-packages/rdt/transformers/base.py:132: FutureWarning: Future versions of RDT will not support the 'model_missing_values' parameter. Please switch to using the 'missing_value_generation' parameter to select your strategy.\n",
      "  warnings.warn(\n",
      "/Users/camilodavid/Library/r-miniconda-arm64/lib/python3.9/site-packages/rdt/transformers/base.py:132: FutureWarning: Future versions of RDT will not support the 'model_missing_values' parameter. Please switch to using the 'missing_value_generation' parameter to select your strategy.\n",
      "  warnings.warn(\n",
      "/Users/camilodavid/Library/r-miniconda-arm64/lib/python3.9/site-packages/rdt/transformers/base.py:132: FutureWarning: Future versions of RDT will not support the 'model_missing_values' parameter. Please switch to using the 'missing_value_generation' parameter to select your strategy.\n",
      "  warnings.warn(\n",
      "/Users/camilodavid/Library/r-miniconda-arm64/lib/python3.9/site-packages/rdt/transformers/base.py:132: FutureWarning: Future versions of RDT will not support the 'model_missing_values' parameter. Please switch to using the 'missing_value_generation' parameter to select your strategy.\n",
      "  warnings.warn(\n",
      "/Users/camilodavid/Library/r-miniconda-arm64/lib/python3.9/site-packages/rdt/transformers/base.py:132: FutureWarning: Future versions of RDT will not support the 'model_missing_values' parameter. Please switch to using the 'missing_value_generation' parameter to select your strategy.\n",
      "  warnings.warn(\n",
      "/Users/camilodavid/Library/r-miniconda-arm64/lib/python3.9/site-packages/rdt/transformers/base.py:132: FutureWarning: Future versions of RDT will not support the 'model_missing_values' parameter. Please switch to using the 'missing_value_generation' parameter to select your strategy.\n",
      "  warnings.warn(\n"
     ]
    }
   ],
   "source": [
    "from sdv.single_table import TVAESynthesizer\n",
    "\n",
    "synthesizer_1 = TVAESynthesizer(\n",
    "    metadata, # required\n",
    "    enforce_min_max_values=True, # Irrelevant in this case\n",
    "    enforce_rounding=True, # Irrelevant in this case\n",
    "    epochs=300 # This is the default value used for the data augmentation with the Benchmark BNs\n",
    ")\n",
    "synthesizer_1.fit(df)"
   ]
  },
  {
   "cell_type": "markdown",
   "metadata": {},
   "source": [
    "Create the synthetic data and make the augmented dataset and let's calculate the similarity score"
   ]
  },
  {
   "cell_type": "code",
   "execution_count": 25,
   "metadata": {},
   "outputs": [
    {
     "name": "stderr",
     "output_type": "stream",
     "text": [
      "/var/folders/1m/76scws4n60v0c4p8djp7sld80000gn/T/ipykernel_21633/1946735402.py:4: FutureWarning: The frame.append method is deprecated and will be removed from pandas in a future version. Use pandas.concat instead.\n",
      "  aug_1 = syn_1.append(df)\n",
      "Creating report: 100%|██████████| 4/4 [00:00<00:00, 47.96it/s]\n"
     ]
    },
    {
     "name": "stdout",
     "output_type": "stream",
     "text": [
      "\n",
      "Overall Quality Score: 82.49%\n",
      "\n",
      "Properties:\n",
      "Column Shapes: 84.61%\n",
      "Column Pair Trends: 80.37%\n"
     ]
    },
    {
     "data": {
      "text/plain": [
       "<sdmetrics.reports.single_table.quality_report.QualityReport at 0x28011bd60>"
      ]
     },
     "execution_count": 25,
     "metadata": {},
     "output_type": "execute_result"
    }
   ],
   "source": [
    "synthesizer_1.reset_sampling()\n",
    "syn_1 = synthesizer_1.sample(num_rows=300)\n",
    "\n",
    "aug_1 = syn_1.append(df)\n",
    "\n",
    "from sdv.evaluation.single_table import evaluate_quality\n",
    "from sdv.metadata import SingleTableMetadata\n",
    "\n",
    "quality_report_TVAE_1 = evaluate_quality(\n",
    "    real_data=df,\n",
    "    synthetic_data=aug_1,\n",
    "    metadata=metadata)\n",
    "quality_report_TVAE_1"
   ]
  },
  {
   "cell_type": "markdown",
   "metadata": {},
   "source": [
    "We see that the similarity of the augmented data set is a bit low and might introduce noise in the learning of the BN parameters. \n",
    "So we make some adjustments"
   ]
  },
  {
   "cell_type": "code",
   "execution_count": 26,
   "metadata": {},
   "outputs": [
    {
     "name": "stderr",
     "output_type": "stream",
     "text": [
      "/Users/camilodavid/Library/r-miniconda-arm64/lib/python3.9/site-packages/rdt/transformers/base.py:132: FutureWarning: Future versions of RDT will not support the 'model_missing_values' parameter. Please switch to using the 'missing_value_generation' parameter to select your strategy.\n",
      "  warnings.warn(\n",
      "/Users/camilodavid/Library/r-miniconda-arm64/lib/python3.9/site-packages/rdt/transformers/base.py:132: FutureWarning: Future versions of RDT will not support the 'model_missing_values' parameter. Please switch to using the 'missing_value_generation' parameter to select your strategy.\n",
      "  warnings.warn(\n",
      "/Users/camilodavid/Library/r-miniconda-arm64/lib/python3.9/site-packages/rdt/transformers/base.py:132: FutureWarning: Future versions of RDT will not support the 'model_missing_values' parameter. Please switch to using the 'missing_value_generation' parameter to select your strategy.\n",
      "  warnings.warn(\n",
      "/Users/camilodavid/Library/r-miniconda-arm64/lib/python3.9/site-packages/rdt/transformers/base.py:132: FutureWarning: Future versions of RDT will not support the 'model_missing_values' parameter. Please switch to using the 'missing_value_generation' parameter to select your strategy.\n",
      "  warnings.warn(\n",
      "/Users/camilodavid/Library/r-miniconda-arm64/lib/python3.9/site-packages/rdt/transformers/base.py:132: FutureWarning: Future versions of RDT will not support the 'model_missing_values' parameter. Please switch to using the 'missing_value_generation' parameter to select your strategy.\n",
      "  warnings.warn(\n",
      "/Users/camilodavid/Library/r-miniconda-arm64/lib/python3.9/site-packages/rdt/transformers/base.py:132: FutureWarning: Future versions of RDT will not support the 'model_missing_values' parameter. Please switch to using the 'missing_value_generation' parameter to select your strategy.\n",
      "  warnings.warn(\n",
      "/Users/camilodavid/Library/r-miniconda-arm64/lib/python3.9/site-packages/rdt/transformers/base.py:132: FutureWarning: Future versions of RDT will not support the 'model_missing_values' parameter. Please switch to using the 'missing_value_generation' parameter to select your strategy.\n",
      "  warnings.warn(\n",
      "/Users/camilodavid/Library/r-miniconda-arm64/lib/python3.9/site-packages/rdt/transformers/base.py:132: FutureWarning: Future versions of RDT will not support the 'model_missing_values' parameter. Please switch to using the 'missing_value_generation' parameter to select your strategy.\n",
      "  warnings.warn(\n",
      "/Users/camilodavid/Library/r-miniconda-arm64/lib/python3.9/site-packages/rdt/transformers/base.py:132: FutureWarning: Future versions of RDT will not support the 'model_missing_values' parameter. Please switch to using the 'missing_value_generation' parameter to select your strategy.\n",
      "  warnings.warn(\n"
     ]
    }
   ],
   "source": [
    "from sdv.single_table import TVAESynthesizer\n",
    "\n",
    "synthesizer_2 = TVAESynthesizer(\n",
    "    metadata,\n",
    "    batch_size=8,  # smaller batch size, should be evenly divisible by pac\n",
    "    #pac=2, # larger means each individual's data in the training set has less influence on the output, which makes it harder to reverse-engineer the initial training data from the synthetic data.\n",
    "    compress_dims=(64, 64),\n",
    "    decompress_dims=(64, 64),\n",
    "    embedding_dim=64,  # smaller for a smaller dataset\n",
    "    epochs=2000,   # More epochs for small datasets\n",
    "    loss_factor=4.0,  # Can be increased if synthetic data is not similar to original\n",
    ")\n",
    "synthesizer_2.fit(df)"
   ]
  },
  {
   "cell_type": "markdown",
   "metadata": {},
   "source": [
    "Create the synthetic data and make the augmented dataset and let's calculate the similarity score"
   ]
  },
  {
   "cell_type": "code",
   "execution_count": 27,
   "metadata": {},
   "outputs": [
    {
     "name": "stderr",
     "output_type": "stream",
     "text": [
      "/var/folders/1m/76scws4n60v0c4p8djp7sld80000gn/T/ipykernel_21633/2371588723.py:4: FutureWarning: The frame.append method is deprecated and will be removed from pandas in a future version. Use pandas.concat instead.\n",
      "  aug_2 = syn_2.append(df)\n",
      "Creating report: 100%|██████████| 4/4 [00:00<00:00, 47.66it/s]\n"
     ]
    },
    {
     "name": "stdout",
     "output_type": "stream",
     "text": [
      "\n",
      "Overall Quality Score: 95.71%\n",
      "\n",
      "Properties:\n",
      "Column Shapes: 96.46%\n",
      "Column Pair Trends: 94.96%\n"
     ]
    },
    {
     "data": {
      "text/plain": [
       "<sdmetrics.reports.single_table.quality_report.QualityReport at 0x280035cd0>"
      ]
     },
     "execution_count": 27,
     "metadata": {},
     "output_type": "execute_result"
    }
   ],
   "source": [
    "synthesizer_2.reset_sampling()\n",
    "syn_2 = synthesizer_2.sample(num_rows=300)\n",
    "\n",
    "aug_2 = syn_2.append(df)\n",
    "\n",
    "quality_report_TVAE_2 = evaluate_quality(\n",
    "    real_data=df,\n",
    "    synthetic_data=aug_2,\n",
    "    metadata=metadata)\n",
    "quality_report_TVAE_2"
   ]
  },
  {
   "cell_type": "markdown",
   "metadata": {},
   "source": [
    "The results are better. Based on the results obtained with the Benchmark BNs, this could be enough to not degrade the learning of the parameters for our BN.\n",
    "However we can try to get better results in terms of the similarity score.\n",
    "We will adjust the Transformers used to better fit our data. Especially those regarding the categorical variables which should be taken as ordered categories.\n",
    "But first we need to check out which transformations are being applied by default."
   ]
  },
  {
   "cell_type": "code",
   "execution_count": 28,
   "metadata": {},
   "outputs": [
    {
     "data": {
      "text/plain": [
       "{'Schedule_category': None,\n",
       " 'Time_Overrun_category': FloatFormatter(learn_rounding_scheme=True, enforce_min_max_values=True),\n",
       " 'Budget_category': None,\n",
       " 'Type': None,\n",
       " 'Labor_Risk': FloatFormatter(learn_rounding_scheme=True, enforce_min_max_values=True),\n",
       " 'Analysis_Risk': FloatFormatter(learn_rounding_scheme=True, enforce_min_max_values=True),\n",
       " 'Decision_Risk': FloatFormatter(learn_rounding_scheme=True, enforce_min_max_values=True),\n",
       " 'Engineering_Risk': FloatFormatter(learn_rounding_scheme=True, enforce_min_max_values=True),\n",
       " 'Provider_Risk': FloatFormatter(learn_rounding_scheme=True, enforce_min_max_values=True),\n",
       " 'Weather_Risk': FloatFormatter(learn_rounding_scheme=True, enforce_min_max_values=True),\n",
       " 'Fabrication_Risk': FloatFormatter(learn_rounding_scheme=True, enforce_min_max_values=True)}"
      ]
     },
     "execution_count": 28,
     "metadata": {},
     "output_type": "execute_result"
    }
   ],
   "source": [
    "synthesizer_2.get_transformers()"
   ]
  },
  {
   "cell_type": "code",
   "execution_count": 32,
   "metadata": {},
   "outputs": [
    {
     "name": "stderr",
     "output_type": "stream",
     "text": [
      "/Users/camilodavid/Library/r-miniconda-arm64/lib/python3.9/site-packages/rdt/transformers/base.py:132: FutureWarning: Future versions of RDT will not support the 'model_missing_values' parameter. Please switch to using the 'missing_value_generation' parameter to select your strategy.\n",
      "  warnings.warn(\n",
      "/Users/camilodavid/Library/r-miniconda-arm64/lib/python3.9/site-packages/rdt/transformers/base.py:132: FutureWarning: Future versions of RDT will not support the 'model_missing_values' parameter. Please switch to using the 'missing_value_generation' parameter to select your strategy.\n",
      "  warnings.warn(\n",
      "/Users/camilodavid/Library/r-miniconda-arm64/lib/python3.9/site-packages/rdt/transformers/base.py:132: FutureWarning: Future versions of RDT will not support the 'model_missing_values' parameter. Please switch to using the 'missing_value_generation' parameter to select your strategy.\n",
      "  warnings.warn(\n",
      "/Users/camilodavid/Library/r-miniconda-arm64/lib/python3.9/site-packages/rdt/transformers/base.py:132: FutureWarning: Future versions of RDT will not support the 'model_missing_values' parameter. Please switch to using the 'missing_value_generation' parameter to select your strategy.\n",
      "  warnings.warn(\n",
      "/Users/camilodavid/Library/r-miniconda-arm64/lib/python3.9/site-packages/rdt/transformers/base.py:132: FutureWarning: Future versions of RDT will not support the 'model_missing_values' parameter. Please switch to using the 'missing_value_generation' parameter to select your strategy.\n",
      "  warnings.warn(\n",
      "/Users/camilodavid/Library/r-miniconda-arm64/lib/python3.9/site-packages/rdt/transformers/base.py:132: FutureWarning: Future versions of RDT will not support the 'model_missing_values' parameter. Please switch to using the 'missing_value_generation' parameter to select your strategy.\n",
      "  warnings.warn(\n",
      "/Users/camilodavid/Library/r-miniconda-arm64/lib/python3.9/site-packages/rdt/transformers/base.py:132: FutureWarning: Future versions of RDT will not support the 'model_missing_values' parameter. Please switch to using the 'missing_value_generation' parameter to select your strategy.\n",
      "  warnings.warn(\n",
      "/Users/camilodavid/Library/r-miniconda-arm64/lib/python3.9/site-packages/rdt/transformers/base.py:132: FutureWarning: Future versions of RDT will not support the 'model_missing_values' parameter. Please switch to using the 'missing_value_generation' parameter to select your strategy.\n",
      "  warnings.warn(\n",
      "/Users/camilodavid/Library/r-miniconda-arm64/lib/python3.9/site-packages/rdt/transformers/base.py:132: FutureWarning: Future versions of RDT will not support the 'model_missing_values' parameter. Please switch to using the 'missing_value_generation' parameter to select your strategy.\n",
      "  warnings.warn(\n",
      "/Users/camilodavid/Library/r-miniconda-arm64/lib/python3.9/site-packages/sdv/single_table/base.py:259: UserWarning: Replacing the default transformer for column 'Schedule_category' might impact the quality of your synthetic data.\n",
      "  warnings.warn(\n",
      "/Users/camilodavid/Library/r-miniconda-arm64/lib/python3.9/site-packages/sdv/single_table/base.py:259: UserWarning: Replacing the default transformer for column 'Budget_category' might impact the quality of your synthetic data.\n",
      "  warnings.warn(\n",
      "/Users/camilodavid/Library/r-miniconda-arm64/lib/python3.9/site-packages/sdv/single_table/base.py:259: UserWarning: Replacing the default transformer for column 'Type' might impact the quality of your synthetic data.\n",
      "  warnings.warn(\n",
      "/Users/camilodavid/Library/r-miniconda-arm64/lib/python3.9/site-packages/rdt/hyper_transformer.py:398: UserWarning: For this change to take effect, please refit your data using 'fit' or 'fit_transform'.\n",
      "  warnings.warn(self._REFIT_MESSAGE)\n",
      "/Users/camilodavid/Library/r-miniconda-arm64/lib/python3.9/site-packages/rdt/transformers/base.py:132: FutureWarning: Future versions of RDT will not support the 'model_missing_values' parameter. Please switch to using the 'missing_value_generation' parameter to select your strategy.\n",
      "  warnings.warn(\n",
      "/Users/camilodavid/Library/r-miniconda-arm64/lib/python3.9/site-packages/rdt/transformers/base.py:132: FutureWarning: Future versions of RDT will not support the 'model_missing_values' parameter. Please switch to using the 'missing_value_generation' parameter to select your strategy.\n",
      "  warnings.warn(\n",
      "/Users/camilodavid/Library/r-miniconda-arm64/lib/python3.9/site-packages/rdt/transformers/base.py:132: FutureWarning: Future versions of RDT will not support the 'model_missing_values' parameter. Please switch to using the 'missing_value_generation' parameter to select your strategy.\n",
      "  warnings.warn(\n",
      "/Users/camilodavid/Library/r-miniconda-arm64/lib/python3.9/site-packages/rdt/transformers/base.py:132: FutureWarning: Future versions of RDT will not support the 'model_missing_values' parameter. Please switch to using the 'missing_value_generation' parameter to select your strategy.\n",
      "  warnings.warn(\n",
      "/Users/camilodavid/Library/r-miniconda-arm64/lib/python3.9/site-packages/rdt/transformers/base.py:132: FutureWarning: Future versions of RDT will not support the 'model_missing_values' parameter. Please switch to using the 'missing_value_generation' parameter to select your strategy.\n",
      "  warnings.warn(\n",
      "/Users/camilodavid/Library/r-miniconda-arm64/lib/python3.9/site-packages/rdt/transformers/base.py:132: FutureWarning: Future versions of RDT will not support the 'model_missing_values' parameter. Please switch to using the 'missing_value_generation' parameter to select your strategy.\n",
      "  warnings.warn(\n",
      "/Users/camilodavid/Library/r-miniconda-arm64/lib/python3.9/site-packages/rdt/transformers/base.py:132: FutureWarning: Future versions of RDT will not support the 'model_missing_values' parameter. Please switch to using the 'missing_value_generation' parameter to select your strategy.\n",
      "  warnings.warn(\n",
      "/Users/camilodavid/Library/r-miniconda-arm64/lib/python3.9/site-packages/rdt/transformers/base.py:132: FutureWarning: Future versions of RDT will not support the 'model_missing_values' parameter. Please switch to using the 'missing_value_generation' parameter to select your strategy.\n",
      "  warnings.warn(\n"
     ]
    }
   ],
   "source": [
    "from rdt.transformers.categorical import OrderedLabelEncoder, LabelEncoder\n",
    "from sdv.single_table import TVAESynthesizer\n",
    "\n",
    "synthesizer_3 = TVAESynthesizer(\n",
    "    metadata,\n",
    "    batch_size=8,  # smaller batch size, should be evenly divisible by pac\n",
    "    #pac=2, # larger means each individual's data in the training set has less influence on the output, which makes it harder to reverse-engineer the initial training data from the synthetic data.\n",
    "    compress_dims=(64, 64),\n",
    "    decompress_dims=(64, 64),\n",
    "    embedding_dim=64,  # smaller for a smaller dataset\n",
    "    epochs=2000,   # More epochs for small datasets\n",
    "    loss_factor=4.0,  # Can be increased if synthetic data is not similar to original\n",
    ")\n",
    "\n",
    "synthesizer_3.fit(df)\n",
    "\n",
    "# create new transformer objects\n",
    "cattime_transformer = OrderedLabelEncoder(order=['Small', 'Medium', 'Large'], add_noise=True)\n",
    "catcost_transformer = OrderedLabelEncoder(order=['Small', 'Medium', 'Large'], add_noise=True)\n",
    "type_transformer = LabelEncoder(add_noise=True)\n",
    "\n",
    "synthesizer_3.update_transformers(column_name_to_transformer={\n",
    "  'Schedule_category': cattime_transformer,\n",
    "  'Time_Overrun_category': None,\n",
    "  'Budget_category': catcost_transformer,\n",
    "  'Type': type_transformer,\n",
    "  'Labor_Risk': None,\n",
    "  'Analysis_Risk': None,\n",
    "  'Decision_Risk': None,\n",
    "  'Engineering_Risk': None,\n",
    "  'Provider_Risk': None,\n",
    "  'Weather_Risk': None,\n",
    "  'Fabrication_Risk': None\n",
    "})\n",
    "\n",
    "synthesizer_3.get_transformers()\n",
    "synthesizer_3.fit(df)"
   ]
  },
  {
   "cell_type": "markdown",
   "metadata": {},
   "source": [
    "And we can fit the data again. We should see a small improvement in the similarity."
   ]
  },
  {
   "cell_type": "code",
   "execution_count": 33,
   "metadata": {},
   "outputs": [
    {
     "name": "stderr",
     "output_type": "stream",
     "text": [
      "/var/folders/1m/76scws4n60v0c4p8djp7sld80000gn/T/ipykernel_21633/280959105.py:4: FutureWarning: The frame.append method is deprecated and will be removed from pandas in a future version. Use pandas.concat instead.\n",
      "  aug_3 = syn_3.append(df)\n",
      "Creating report: 100%|██████████| 4/4 [00:00<00:00, 46.00it/s]\n"
     ]
    },
    {
     "name": "stdout",
     "output_type": "stream",
     "text": [
      "\n",
      "Overall Quality Score: 96.46%\n",
      "\n",
      "Properties:\n",
      "Column Shapes: 96.89%\n",
      "Column Pair Trends: 96.03%\n"
     ]
    },
    {
     "data": {
      "text/plain": [
       "<sdmetrics.reports.single_table.quality_report.QualityReport at 0x2943be100>"
      ]
     },
     "execution_count": 33,
     "metadata": {},
     "output_type": "execute_result"
    }
   ],
   "source": [
    "synthesizer_3.reset_sampling()\n",
    "syn_3 = synthesizer_3.sample(num_rows=300)\n",
    "\n",
    "aug_3 = syn_3.append(df)\n",
    "\n",
    "quality_report_TVAE_3 = evaluate_quality(\n",
    "    real_data=df,\n",
    "    synthetic_data=aug_3,\n",
    "    metadata=metadata)\n",
    "quality_report_TVAE_3"
   ]
  },
  {
   "cell_type": "code",
   "execution_count": 36,
   "metadata": {},
   "outputs": [
    {
     "name": "stderr",
     "output_type": "stream",
     "text": [
      "/Users/camilodavid/Library/r-miniconda-arm64/lib/python3.9/site-packages/rdt/transformers/base.py:132: FutureWarning: Future versions of RDT will not support the 'model_missing_values' parameter. Please switch to using the 'missing_value_generation' parameter to select your strategy.\n",
      "  warnings.warn(\n",
      "/Users/camilodavid/Library/r-miniconda-arm64/lib/python3.9/site-packages/rdt/transformers/base.py:132: FutureWarning: Future versions of RDT will not support the 'model_missing_values' parameter. Please switch to using the 'missing_value_generation' parameter to select your strategy.\n",
      "  warnings.warn(\n",
      "/Users/camilodavid/Library/r-miniconda-arm64/lib/python3.9/site-packages/rdt/transformers/base.py:132: FutureWarning: Future versions of RDT will not support the 'model_missing_values' parameter. Please switch to using the 'missing_value_generation' parameter to select your strategy.\n",
      "  warnings.warn(\n",
      "/Users/camilodavid/Library/r-miniconda-arm64/lib/python3.9/site-packages/rdt/transformers/base.py:132: FutureWarning: Future versions of RDT will not support the 'model_missing_values' parameter. Please switch to using the 'missing_value_generation' parameter to select your strategy.\n",
      "  warnings.warn(\n",
      "/Users/camilodavid/Library/r-miniconda-arm64/lib/python3.9/site-packages/rdt/transformers/base.py:132: FutureWarning: Future versions of RDT will not support the 'model_missing_values' parameter. Please switch to using the 'missing_value_generation' parameter to select your strategy.\n",
      "  warnings.warn(\n",
      "/Users/camilodavid/Library/r-miniconda-arm64/lib/python3.9/site-packages/rdt/transformers/base.py:132: FutureWarning: Future versions of RDT will not support the 'model_missing_values' parameter. Please switch to using the 'missing_value_generation' parameter to select your strategy.\n",
      "  warnings.warn(\n",
      "/Users/camilodavid/Library/r-miniconda-arm64/lib/python3.9/site-packages/rdt/transformers/base.py:132: FutureWarning: Future versions of RDT will not support the 'model_missing_values' parameter. Please switch to using the 'missing_value_generation' parameter to select your strategy.\n",
      "  warnings.warn(\n",
      "/Users/camilodavid/Library/r-miniconda-arm64/lib/python3.9/site-packages/rdt/transformers/base.py:132: FutureWarning: Future versions of RDT will not support the 'model_missing_values' parameter. Please switch to using the 'missing_value_generation' parameter to select your strategy.\n",
      "  warnings.warn(\n",
      "/Users/camilodavid/Library/r-miniconda-arm64/lib/python3.9/site-packages/rdt/transformers/base.py:132: FutureWarning: Future versions of RDT will not support the 'model_missing_values' parameter. Please switch to using the 'missing_value_generation' parameter to select your strategy.\n",
      "  warnings.warn(\n"
     ]
    }
   ],
   "source": [
    "from rdt.transformers.categorical import OrderedLabelEncoder\n",
    "from sdv.single_table import TVAESynthesizer\n",
    "\n",
    "synthesizer_4 = TVAESynthesizer(\n",
    "    metadata,\n",
    "    batch_size=8,  # smaller batch size, should be evenly divisible by pac\n",
    "    #pac=2, # larger means each individual's data in the training set has less influence on the output, which makes it harder to reverse-engineer the initial training data from the synthetic data.\n",
    "    compress_dims=(64, 64),\n",
    "    decompress_dims=(64, 64),\n",
    "    embedding_dim=64,  # smaller for a smaller dataset\n",
    "    epochs=2000,   # More epochs for small datasets\n",
    "    loss_factor=4.0,  # Can be increased if synthetic data is not similar to original\n",
    ")\n",
    "\n",
    "synthesizer_4.load_custom_constraint_classes(\n",
    "    filepath='/Users/camilodavid/Library/CloudStorage/OneDrive-Personal/Tohoku U/PhD/Papers/4rd Paper/Code/Seed1/mineros/AI sampling/custom_constraint_template.py',\n",
    "    class_names=['RiskOverrunConstraint']\n",
    ")\n",
    "\n",
    "my_constraint = {\n",
    "    'constraint_class': 'RiskOverrunConstraint',\n",
    "    'constraint_parameters': {\n",
    "        'column_names': ['Labor_Risk', 'Analysis_Risk', 'Decision_Risk', 'Engineering_Risk', 'Provider_Risk', 'Weather_Risk', 'Fabrication_Risk'],\n",
    "        'extra_parameter': None\n",
    "    }\n",
    "}\n",
    "synthesizer_4.add_constraints([my_constraint])\n",
    "\n",
    "synthesizer_4.fit(df)"
   ]
  },
  {
   "cell_type": "code",
   "execution_count": 37,
   "metadata": {},
   "outputs": [
    {
     "name": "stderr",
     "output_type": "stream",
     "text": [
      "/Users/camilodavid/Library/r-miniconda-arm64/lib/python3.9/site-packages/sdv/single_table/base.py:259: UserWarning: Replacing the default transformer for column 'Schedule_category' might impact the quality of your synthetic data.\n",
      "  warnings.warn(\n",
      "/Users/camilodavid/Library/r-miniconda-arm64/lib/python3.9/site-packages/sdv/single_table/base.py:259: UserWarning: Replacing the default transformer for column 'Budget_category' might impact the quality of your synthetic data.\n",
      "  warnings.warn(\n",
      "/Users/camilodavid/Library/r-miniconda-arm64/lib/python3.9/site-packages/sdv/single_table/base.py:259: UserWarning: Replacing the default transformer for column 'Type' might impact the quality of your synthetic data.\n",
      "  warnings.warn(\n",
      "/Users/camilodavid/Library/r-miniconda-arm64/lib/python3.9/site-packages/rdt/hyper_transformer.py:398: UserWarning: For this change to take effect, please refit your data using 'fit' or 'fit_transform'.\n",
      "  warnings.warn(self._REFIT_MESSAGE)\n",
      "/Users/camilodavid/Library/r-miniconda-arm64/lib/python3.9/site-packages/rdt/transformers/base.py:132: FutureWarning: Future versions of RDT will not support the 'model_missing_values' parameter. Please switch to using the 'missing_value_generation' parameter to select your strategy.\n",
      "  warnings.warn(\n",
      "/Users/camilodavid/Library/r-miniconda-arm64/lib/python3.9/site-packages/rdt/transformers/base.py:132: FutureWarning: Future versions of RDT will not support the 'model_missing_values' parameter. Please switch to using the 'missing_value_generation' parameter to select your strategy.\n",
      "  warnings.warn(\n",
      "/Users/camilodavid/Library/r-miniconda-arm64/lib/python3.9/site-packages/rdt/transformers/base.py:132: FutureWarning: Future versions of RDT will not support the 'model_missing_values' parameter. Please switch to using the 'missing_value_generation' parameter to select your strategy.\n",
      "  warnings.warn(\n",
      "/Users/camilodavid/Library/r-miniconda-arm64/lib/python3.9/site-packages/rdt/transformers/base.py:132: FutureWarning: Future versions of RDT will not support the 'model_missing_values' parameter. Please switch to using the 'missing_value_generation' parameter to select your strategy.\n",
      "  warnings.warn(\n",
      "/Users/camilodavid/Library/r-miniconda-arm64/lib/python3.9/site-packages/rdt/transformers/base.py:132: FutureWarning: Future versions of RDT will not support the 'model_missing_values' parameter. Please switch to using the 'missing_value_generation' parameter to select your strategy.\n",
      "  warnings.warn(\n",
      "/Users/camilodavid/Library/r-miniconda-arm64/lib/python3.9/site-packages/rdt/transformers/base.py:132: FutureWarning: Future versions of RDT will not support the 'model_missing_values' parameter. Please switch to using the 'missing_value_generation' parameter to select your strategy.\n",
      "  warnings.warn(\n",
      "/Users/camilodavid/Library/r-miniconda-arm64/lib/python3.9/site-packages/rdt/transformers/base.py:132: FutureWarning: Future versions of RDT will not support the 'model_missing_values' parameter. Please switch to using the 'missing_value_generation' parameter to select your strategy.\n",
      "  warnings.warn(\n",
      "/Users/camilodavid/Library/r-miniconda-arm64/lib/python3.9/site-packages/rdt/transformers/base.py:132: FutureWarning: Future versions of RDT will not support the 'model_missing_values' parameter. Please switch to using the 'missing_value_generation' parameter to select your strategy.\n",
      "  warnings.warn(\n"
     ]
    }
   ],
   "source": [
    "# create new transformer objects\n",
    "cattime_transformer = OrderedLabelEncoder(order=['Small', 'Medium', 'Large'], add_noise=True)\n",
    "catcost_transformer = OrderedLabelEncoder(order=['Small', 'Medium', 'Large'], add_noise=True)\n",
    "type_transformer = LabelEncoder(add_noise=True)\n",
    "\n",
    "synthesizer_4.update_transformers(column_name_to_transformer={\n",
    "  'Schedule_category': cattime_transformer,\n",
    "  'Time_Overrun_category': None,\n",
    "  'Budget_category': catcost_transformer,\n",
    "  'Type': type_transformer,\n",
    "  'Labor_Risk': None,\n",
    "  'Analysis_Risk': None,\n",
    "  'Decision_Risk': None,\n",
    "  'Engineering_Risk': None,\n",
    "  'Provider_Risk': None,\n",
    "  'Weather_Risk': None,\n",
    "  'Fabrication_Risk': None\n",
    "})\n",
    "\n",
    "synthesizer_4.fit(df)"
   ]
  },
  {
   "cell_type": "code",
   "execution_count": 38,
   "metadata": {},
   "outputs": [
    {
     "name": "stderr",
     "output_type": "stream",
     "text": [
      "Sampling rows: 100%|██████████| 300/300 [00:00<00:00, 2608.94it/s]\n",
      "/var/folders/1m/76scws4n60v0c4p8djp7sld80000gn/T/ipykernel_21633/495950202.py:4: FutureWarning: The frame.append method is deprecated and will be removed from pandas in a future version. Use pandas.concat instead.\n",
      "  aug_4 = syn_4.append(df)\n",
      "Creating report: 100%|██████████| 4/4 [00:00<00:00, 50.65it/s]\n"
     ]
    },
    {
     "name": "stdout",
     "output_type": "stream",
     "text": [
      "\n",
      "Overall Quality Score: 95.67%\n",
      "\n",
      "Properties:\n",
      "Column Shapes: 95.95%\n",
      "Column Pair Trends: 95.4%\n"
     ]
    },
    {
     "data": {
      "text/plain": [
       "<sdmetrics.reports.single_table.quality_report.QualityReport at 0x289746490>"
      ]
     },
     "execution_count": 38,
     "metadata": {},
     "output_type": "execute_result"
    }
   ],
   "source": [
    "synthesizer_4.reset_sampling()\n",
    "syn_4 = synthesizer_4.sample(num_rows=300)\n",
    "\n",
    "aug_4 = syn_4.append(df)\n",
    "\n",
    "from sdv.evaluation.single_table import evaluate_quality\n",
    "from sdv.metadata import SingleTableMetadata\n",
    "\n",
    "quality_report_TVAE_4 = evaluate_quality(\n",
    "    real_data=df,\n",
    "    synthetic_data=aug_4,\n",
    "    metadata=metadata)\n",
    "quality_report_TVAE_4"
   ]
  },
  {
   "cell_type": "code",
   "execution_count": 39,
   "metadata": {},
   "outputs": [],
   "source": [
    "aug_4.to_csv(\"/Users/camilodavid/Library/CloudStorage/OneDrive-Personal/Tohoku U/PhD/Papers/4rd Paper/Code/Seed1/mineros/AI sampling/aug.csv\")"
   ]
  },
  {
   "cell_type": "markdown",
   "metadata": {},
   "source": [
    "Let us plot the DGMs"
   ]
  },
  {
   "cell_type": "code",
   "execution_count": 1,
   "metadata": {},
   "outputs": [
    {
     "ename": "NameError",
     "evalue": "name 'synthesizer_1' is not defined",
     "output_type": "error",
     "traceback": [
      "\u001b[0;31m---------------------------------------------------------------------------\u001b[0m",
      "\u001b[0;31mNameError\u001b[0m                                 Traceback (most recent call last)",
      "\u001b[1;32m/Users/camilodavid/Library/CloudStorage/OneDrive-Personal/Tohoku U/PhD/Papers/4rd Paper/Code/Seed1/mineros/AI sampling/TVAE.ipynb Cell 22\u001b[0m line \u001b[0;36m1\n\u001b[0;32m----> <a href='vscode-notebook-cell:/Users/camilodavid/Library/CloudStorage/OneDrive-Personal/Tohoku%20U/PhD/Papers/4rd%20Paper/Code/Seed1/mineros/AI%20sampling/TVAE.ipynb#X30sZmlsZQ%3D%3D?line=0'>1</a>\u001b[0m synthesizer_1\u001b[39m.\u001b[39mplot()\n",
      "\u001b[0;31mNameError\u001b[0m: name 'synthesizer_1' is not defined"
     ]
    }
   ],
   "source": [
    "synthesizer_1.plot()\n"
   ]
  }
 ],
 "metadata": {
  "kernelspec": {
   "display_name": "Python 3",
   "language": "python",
   "name": "python3"
  },
  "language_info": {
   "codemirror_mode": {
    "name": "ipython",
    "version": 3
   },
   "file_extension": ".py",
   "mimetype": "text/x-python",
   "name": "python",
   "nbconvert_exporter": "python",
   "pygments_lexer": "ipython3",
   "version": "3.9.18"
  },
  "orig_nbformat": 4,
  "vscode": {
   "interpreter": {
    "hash": "a277570bceeeb00b25262093a773d52934552eedb15b485dd7ccf85dec1c7660"
   }
  }
 },
 "nbformat": 4,
 "nbformat_minor": 2
}
