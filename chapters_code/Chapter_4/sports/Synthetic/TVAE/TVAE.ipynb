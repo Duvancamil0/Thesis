{
 "cells": [
  {
   "cell_type": "code",
   "execution_count": 2,
   "metadata": {},
   "outputs": [
    {
     "data": {
      "text/html": [
       "<div>\n",
       "<style scoped>\n",
       "    .dataframe tbody tr th:only-of-type {\n",
       "        vertical-align: middle;\n",
       "    }\n",
       "\n",
       "    .dataframe tbody tr th {\n",
       "        vertical-align: top;\n",
       "    }\n",
       "\n",
       "    .dataframe thead th {\n",
       "        text-align: right;\n",
       "    }\n",
       "</style>\n",
       "<table border=\"1\" class=\"dataframe\">\n",
       "  <thead>\n",
       "    <tr style=\"text-align: right;\">\n",
       "      <th></th>\n",
       "      <th>RDlevel</th>\n",
       "      <th>HTshots</th>\n",
       "      <th>ATshots</th>\n",
       "      <th>HTshotOnTarget</th>\n",
       "      <th>ATshotsOnTarget</th>\n",
       "      <th>possession</th>\n",
       "      <th>HTgoals</th>\n",
       "      <th>ATgoals</th>\n",
       "      <th>HDA</th>\n",
       "    </tr>\n",
       "  </thead>\n",
       "  <tbody>\n",
       "    <tr>\n",
       "      <th>0</th>\n",
       "      <td>12to14</td>\n",
       "      <td>15to20</td>\n",
       "      <td>0to6</td>\n",
       "      <td>7to9</td>\n",
       "      <td>0to1</td>\n",
       "      <td>47to56%</td>\n",
       "      <td>3</td>\n",
       "      <td>0</td>\n",
       "      <td>H</td>\n",
       "    </tr>\n",
       "    <tr>\n",
       "      <th>1</th>\n",
       "      <td>12to14</td>\n",
       "      <td>15to20</td>\n",
       "      <td>7to10</td>\n",
       "      <td>2to3</td>\n",
       "      <td>2to3</td>\n",
       "      <td>57to65%</td>\n",
       "      <td>1</td>\n",
       "      <td>2</td>\n",
       "      <td>A</td>\n",
       "    </tr>\n",
       "    <tr>\n",
       "      <th>2</th>\n",
       "      <td>12to14</td>\n",
       "      <td>15to20</td>\n",
       "      <td>7to10</td>\n",
       "      <td>10+</td>\n",
       "      <td>4to6</td>\n",
       "      <td>57to65%</td>\n",
       "      <td>3</td>\n",
       "      <td>2</td>\n",
       "      <td>H</td>\n",
       "    </tr>\n",
       "  </tbody>\n",
       "</table>\n",
       "</div>"
      ],
      "text/plain": [
       "  RDlevel HTshots ATshots HTshotOnTarget ATshotsOnTarget possession HTgoals  \\\n",
       "0  12to14  15to20    0to6           7to9            0to1    47to56%       3   \n",
       "1  12to14  15to20   7to10           2to3            2to3    57to65%       1   \n",
       "2  12to14  15to20   7to10            10+            4to6    57to65%       3   \n",
       "\n",
       "  ATgoals HDA  \n",
       "0       0   H  \n",
       "1       2   A  \n",
       "2       2   H  "
      ]
     },
     "execution_count": 2,
     "metadata": {},
     "output_type": "execute_result"
    }
   ],
   "source": [
    "import pandas as pd\n",
    "\n",
    "df_100 = pd.read_csv(\"/sports/Samples/stratified_100.csv\")\n",
    "df_100.head(3)"
   ]
  },
  {
   "cell_type": "code",
   "execution_count": 3,
   "metadata": {},
   "outputs": [
    {
     "name": "stdout",
     "output_type": "stream",
     "text": [
      "Auto detected data:\n",
      "\n"
     ]
    },
    {
     "data": {
      "text/plain": [
       "{\n",
       "    \"columns\": {\n",
       "        \"RDlevel\": {\n",
       "            \"sdtype\": \"categorical\"\n",
       "        },\n",
       "        \"HTshots\": {\n",
       "            \"sdtype\": \"categorical\"\n",
       "        },\n",
       "        \"ATshots\": {\n",
       "            \"sdtype\": \"categorical\"\n",
       "        },\n",
       "        \"HTshotOnTarget\": {\n",
       "            \"sdtype\": \"categorical\"\n",
       "        },\n",
       "        \"ATshotsOnTarget\": {\n",
       "            \"sdtype\": \"categorical\"\n",
       "        },\n",
       "        \"possession\": {\n",
       "            \"sdtype\": \"categorical\"\n",
       "        },\n",
       "        \"HTgoals\": {\n",
       "            \"sdtype\": \"categorical\"\n",
       "        },\n",
       "        \"ATgoals\": {\n",
       "            \"sdtype\": \"categorical\"\n",
       "        },\n",
       "        \"HDA\": {\n",
       "            \"sdtype\": \"categorical\"\n",
       "        }\n",
       "    },\n",
       "    \"METADATA_SPEC_VERSION\": \"SINGLE_TABLE_V1\"\n",
       "}"
      ]
     },
     "execution_count": 3,
     "metadata": {},
     "output_type": "execute_result"
    }
   ],
   "source": [
    "from sdv.metadata import SingleTableMetadata\n",
    "\n",
    "metadata = SingleTableMetadata()\n",
    "metadata.detect_from_dataframe(data=df_100)\n",
    "print('Auto detected data:\\n')\n",
    "metadata"
   ]
  },
  {
   "cell_type": "code",
   "execution_count": 4,
   "metadata": {},
   "outputs": [],
   "source": [
    "metadata.save_to_json('/sports/Synthetic/metadata.json')"
   ]
  },
  {
   "cell_type": "code",
   "execution_count": 7,
   "metadata": {},
   "outputs": [],
   "source": [
    "from sdv.single_table import TVAESynthesizer\n",
    "model_100 = TVAESynthesizer(metadata)\n",
    "model_100.fit(df_100)\n",
    "sports_100_syn = model_100.sample(num_rows=2000, output_file_path=\"/sports/Synthetic/TVAE/sports_100_syn.csv\")"
   ]
  },
  {
   "cell_type": "code",
   "execution_count": 8,
   "metadata": {},
   "outputs": [],
   "source": [
    "df_500 = pd.read_csv(\"/sports/Samples/stratified_500.csv\")\n",
    "model_500 = TVAESynthesizer(metadata)\n",
    "model_500.fit(df_500)\n",
    "sports_500_syn = model_500.sample(num_rows=10000, output_file_path=\"/sports/Synthetic/TVAE/sports_500_syn.csv\")"
   ]
  },
  {
   "cell_type": "code",
   "execution_count": 9,
   "metadata": {},
   "outputs": [],
   "source": [
    "df_1000 = pd.read_csv(\"/sports/Samples/stratified_1000.csv\")\n",
    "model_1000 = TVAESynthesizer(metadata)\n",
    "model_1000.fit(df_1000)\n",
    "sports_1000_syn = model_1000.sample(num_rows=20000, output_file_path=\"/sports/Synthetic/TVAE/sports_1000_syn.csv\")"
   ]
  }
 ],
 "metadata": {
  "kernelspec": {
   "display_name": "Python 3",
   "language": "python",
   "name": "python3"
  },
  "language_info": {
   "codemirror_mode": {
    "name": "ipython",
    "version": 3
   },
   "file_extension": ".py",
   "mimetype": "text/x-python",
   "name": "python",
   "nbconvert_exporter": "python",
   "pygments_lexer": "ipython3",
   "version": "3.9.10"
  },
  "orig_nbformat": 4,
  "vscode": {
   "interpreter": {
    "hash": "a277570bceeeb00b25262093a773d52934552eedb15b485dd7ccf85dec1c7660"
   }
  }
 },
 "nbformat": 4,
 "nbformat_minor": 2
}
