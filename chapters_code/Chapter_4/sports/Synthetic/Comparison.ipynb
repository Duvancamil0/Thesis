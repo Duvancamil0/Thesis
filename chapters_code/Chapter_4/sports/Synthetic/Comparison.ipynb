{
 "cells": [
  {
   "attachments": {},
   "cell_type": "markdown",
   "metadata": {},
   "source": [
    "First we will compute the Column Shapes and the Column Pair Trends for the sample 1000 dataset."
   ]
  },
  {
   "cell_type": "code",
   "execution_count": 2,
   "metadata": {},
   "outputs": [],
   "source": [
    "import pandas as pd\n",
    "\n",
    "df_real = pd.read_csv(\"/sports/Samples/stratified_1000.csv\")\n",
    "df_mostly_1000 = pd.read_csv(\"/sports/Synthetic/Mostly/sports_1000_syn.csv\", dtype= str)\n",
    "df_TVAE_1000 = pd.read_csv(\"/sports/Synthetic/TVAE/sports_1000_syn.csv\", dtype= str)\n",
    "df_CTGAN_1000 = pd.read_csv(\"/sports/Synthetic/CTGAN/sports_1000_syn.csv\", dtype= str)"
   ]
  },
  {
   "attachments": {},
   "cell_type": "markdown",
   "metadata": {},
   "source": [
    "We evaluate the performance of Mostly AI"
   ]
  },
  {
   "cell_type": "code",
   "execution_count": 4,
   "metadata": {},
   "outputs": [
    {
     "name": "stderr",
     "output_type": "stream",
     "text": [
      "Creating report: 100%|██████████| 4/4 [00:00<00:00, 11.37it/s]"
     ]
    },
    {
     "name": "stdout",
     "output_type": "stream",
     "text": [
      "\n",
      "Overall Quality Score: 97.06%\n",
      "\n",
      "Properties:\n",
      "Column Shapes: 98.19%\n",
      "Column Pair Trends: 95.93%\n"
     ]
    },
    {
     "name": "stderr",
     "output_type": "stream",
     "text": [
      "\n"
     ]
    },
    {
     "data": {
      "text/plain": [
       "<sdmetrics.reports.single_table.quality_report.QualityReport at 0x105277e20>"
      ]
     },
     "execution_count": 4,
     "metadata": {},
     "output_type": "execute_result"
    }
   ],
   "source": [
    "from sdv.evaluation.single_table import evaluate_quality\n",
    "from sdv.metadata import SingleTableMetadata\n",
    "\n",
    "metadata = SingleTableMetadata.load_from_json('/sports/Synthetic/metadata.json')\n",
    "\n",
    "quality_report_mostly_1000 = evaluate_quality(\n",
    "    real_data=df_real,\n",
    "    synthetic_data=df_mostly_1000,\n",
    "    metadata=metadata)\n",
    "quality_report_mostly_1000"
   ]
  },
  {
   "attachments": {},
   "cell_type": "markdown",
   "metadata": {},
   "source": [
    "We evaluate the performance of TVAE"
   ]
  },
  {
   "cell_type": "code",
   "execution_count": 5,
   "metadata": {},
   "outputs": [
    {
     "name": "stderr",
     "output_type": "stream",
     "text": [
      "Creating report: 100%|██████████| 4/4 [00:00<00:00, 10.94it/s]"
     ]
    },
    {
     "name": "stdout",
     "output_type": "stream",
     "text": [
      "\n",
      "Overall Quality Score: 63.97%\n",
      "\n",
      "Properties:\n",
      "Column Shapes: 73.39%\n",
      "Column Pair Trends: 54.56%\n"
     ]
    },
    {
     "name": "stderr",
     "output_type": "stream",
     "text": [
      "\n"
     ]
    },
    {
     "data": {
      "text/plain": [
       "<sdmetrics.reports.single_table.quality_report.QualityReport at 0x16917dd60>"
      ]
     },
     "execution_count": 5,
     "metadata": {},
     "output_type": "execute_result"
    }
   ],
   "source": [
    "quality_report_TVAE_1000 = evaluate_quality(\n",
    "    real_data=df_real,\n",
    "    synthetic_data=df_TVAE_1000,\n",
    "    metadata=metadata)\n",
    "quality_report_TVAE_1000"
   ]
  },
  {
   "attachments": {},
   "cell_type": "markdown",
   "metadata": {},
   "source": [
    "We evaluate the performance of CTGAN"
   ]
  },
  {
   "cell_type": "code",
   "execution_count": 6,
   "metadata": {},
   "outputs": [
    {
     "name": "stderr",
     "output_type": "stream",
     "text": [
      "Creating report: 100%|██████████| 4/4 [00:00<00:00, 11.39it/s]"
     ]
    },
    {
     "name": "stdout",
     "output_type": "stream",
     "text": [
      "\n",
      "Overall Quality Score: 84.92%\n",
      "\n",
      "Properties:\n",
      "Column Shapes: 89.88%\n",
      "Column Pair Trends: 79.96%\n"
     ]
    },
    {
     "name": "stderr",
     "output_type": "stream",
     "text": [
      "\n"
     ]
    },
    {
     "data": {
      "text/plain": [
       "<sdmetrics.reports.single_table.quality_report.QualityReport at 0x16917d730>"
      ]
     },
     "execution_count": 6,
     "metadata": {},
     "output_type": "execute_result"
    }
   ],
   "source": [
    "quality_report_CTGAN_1000 = evaluate_quality(\n",
    "    real_data=df_real,\n",
    "    synthetic_data=df_CTGAN_1000,\n",
    "    metadata=metadata)\n",
    "quality_report_CTGAN_1000"
   ]
  },
  {
   "attachments": {},
   "cell_type": "markdown",
   "metadata": {},
   "source": [
    "Next we will compute the Column Shapes and the Column Pair Trends for the sample 500 dataset."
   ]
  },
  {
   "cell_type": "code",
   "execution_count": 7,
   "metadata": {},
   "outputs": [],
   "source": [
    "df_real = pd.read_csv(\"/sports/Samples/stratified_500.csv\")\n",
    "df_mostly_500 = pd.read_csv(\"/sports/Synthetic/Mostly/sports_500_syn.csv\", dtype= str)\n",
    "df_TVAE_500 = pd.read_csv(\"/sports/Synthetic/TVAE/sports_500_syn.csv\", dtype= str)\n",
    "df_CTGAN_500 = pd.read_csv(\"/sports/Synthetic/CTGAN/sports_500_syn.csv\", dtype= str)"
   ]
  },
  {
   "attachments": {},
   "cell_type": "markdown",
   "metadata": {},
   "source": [
    "We evaluate the performance of Mostly AI"
   ]
  },
  {
   "cell_type": "code",
   "execution_count": 8,
   "metadata": {},
   "outputs": [
    {
     "name": "stderr",
     "output_type": "stream",
     "text": [
      "Creating report: 100%|██████████| 4/4 [00:00<00:00, 13.47it/s]"
     ]
    },
    {
     "name": "stdout",
     "output_type": "stream",
     "text": [
      "\n",
      "Overall Quality Score: 95.59%\n",
      "\n",
      "Properties:\n",
      "Column Shapes: 97.29%\n",
      "Column Pair Trends: 93.89%\n"
     ]
    },
    {
     "name": "stderr",
     "output_type": "stream",
     "text": [
      "\n"
     ]
    }
   ],
   "source": [
    "quality_report_mostly_500 = evaluate_quality(\n",
    "    real_data=df_real,\n",
    "    synthetic_data=df_mostly_500,\n",
    "    metadata=metadata)"
   ]
  },
  {
   "attachments": {},
   "cell_type": "markdown",
   "metadata": {},
   "source": [
    "We evaluate the performance of TVAE"
   ]
  },
  {
   "cell_type": "code",
   "execution_count": 9,
   "metadata": {},
   "outputs": [
    {
     "name": "stderr",
     "output_type": "stream",
     "text": [
      "Creating report: 100%|██████████| 4/4 [00:00<00:00, 12.47it/s]"
     ]
    },
    {
     "name": "stdout",
     "output_type": "stream",
     "text": [
      "\n",
      "Overall Quality Score: 54.07%\n",
      "\n",
      "Properties:\n",
      "Column Shapes: 64.64%\n",
      "Column Pair Trends: 43.5%\n"
     ]
    },
    {
     "name": "stderr",
     "output_type": "stream",
     "text": [
      "\n"
     ]
    }
   ],
   "source": [
    "quality_report_TVAE_500 = evaluate_quality(\n",
    "    real_data=df_real,\n",
    "    synthetic_data=df_TVAE_500,\n",
    "    metadata=metadata)"
   ]
  },
  {
   "attachments": {},
   "cell_type": "markdown",
   "metadata": {},
   "source": [
    "We evaluate the performance of CTGAN"
   ]
  },
  {
   "cell_type": "code",
   "execution_count": 29,
   "metadata": {},
   "outputs": [
    {
     "name": "stderr",
     "output_type": "stream",
     "text": [
      "Creating report: 100%|██████████| 4/4 [00:00<00:00,  4.62it/s]"
     ]
    },
    {
     "name": "stdout",
     "output_type": "stream",
     "text": [
      "\n",
      "Overall Quality Score: 89.32%\n",
      "\n",
      "Properties:\n",
      "Column Shapes: 94.72%\n",
      "Column Pair Trends: 83.92%\n"
     ]
    },
    {
     "name": "stderr",
     "output_type": "stream",
     "text": [
      "\n"
     ]
    },
    {
     "data": {
      "text/plain": [
       "<sdmetrics.reports.single_table.quality_report.QualityReport at 0x174197550>"
      ]
     },
     "execution_count": 29,
     "metadata": {},
     "output_type": "execute_result"
    }
   ],
   "source": [
    "quality_report_CTGAN_500 = evaluate_quality(\n",
    "    real_data=df_real,\n",
    "    synthetic_data=df_CTGAN_500,\n",
    "    metadata=metadata)\n",
    "quality_report_CTGAN_500"
   ]
  },
  {
   "attachments": {},
   "cell_type": "markdown",
   "metadata": {},
   "source": [
    "Finally we will compute the Column Shapes and the Column Pair Trends for the sample 100 dataset."
   ]
  },
  {
   "cell_type": "code",
   "execution_count": 10,
   "metadata": {},
   "outputs": [],
   "source": [
    "df_real = pd.read_csv(\"/sports/Samples/stratified_100.csv\")\n",
    "df_mostly_100 = pd.read_csv(\"/sports/Synthetic/Mostly/sports_100_syn.csv\", dtype= str)\n",
    "df_TVAE_100 = pd.read_csv(\"/sports/Synthetic/TVAE/sports_100_syn.csv\", dtype= str)\n",
    "df_CTGAN_100 = pd.read_csv(\"/sports/Synthetic/CTGAN/sports_100_syn.csv\", dtype= str)"
   ]
  },
  {
   "attachments": {},
   "cell_type": "markdown",
   "metadata": {},
   "source": [
    "We evaluate the performance of Mostly AI"
   ]
  },
  {
   "cell_type": "code",
   "execution_count": 11,
   "metadata": {},
   "outputs": [
    {
     "name": "stderr",
     "output_type": "stream",
     "text": [
      "Creating report: 100%|██████████| 4/4 [00:00<00:00, 16.04it/s]"
     ]
    },
    {
     "name": "stdout",
     "output_type": "stream",
     "text": [
      "\n",
      "Overall Quality Score: 90.84%\n",
      "\n",
      "Properties:\n",
      "Column Shapes: 96.49%\n",
      "Column Pair Trends: 85.18%\n"
     ]
    },
    {
     "name": "stderr",
     "output_type": "stream",
     "text": [
      "\n"
     ]
    },
    {
     "data": {
      "text/plain": [
       "<sdmetrics.reports.single_table.quality_report.QualityReport at 0x16917dbb0>"
      ]
     },
     "execution_count": 11,
     "metadata": {},
     "output_type": "execute_result"
    }
   ],
   "source": [
    "quality_report_mostly_100 = evaluate_quality(\n",
    "    real_data=df_real,\n",
    "    synthetic_data=df_mostly_100,\n",
    "    metadata=metadata)\n",
    "quality_report_mostly_100"
   ]
  },
  {
   "attachments": {},
   "cell_type": "markdown",
   "metadata": {},
   "source": [
    "We evaluate the performance of TVAE"
   ]
  },
  {
   "cell_type": "code",
   "execution_count": 12,
   "metadata": {},
   "outputs": [
    {
     "name": "stderr",
     "output_type": "stream",
     "text": [
      "Creating report: 100%|██████████| 4/4 [00:00<00:00, 15.32it/s]"
     ]
    },
    {
     "name": "stdout",
     "output_type": "stream",
     "text": [
      "\n",
      "Overall Quality Score: 78.83%\n",
      "\n",
      "Properties:\n",
      "Column Shapes: 84.58%\n",
      "Column Pair Trends: 73.07%\n"
     ]
    },
    {
     "name": "stderr",
     "output_type": "stream",
     "text": [
      "\n"
     ]
    },
    {
     "data": {
      "text/plain": [
       "<sdmetrics.reports.single_table.quality_report.QualityReport at 0x1691e2a00>"
      ]
     },
     "execution_count": 12,
     "metadata": {},
     "output_type": "execute_result"
    }
   ],
   "source": [
    "quality_report_TVAE_100 = evaluate_quality(\n",
    "    real_data=df_real,\n",
    "    synthetic_data=df_TVAE_100,\n",
    "    metadata=metadata)\n",
    "quality_report_TVAE_100"
   ]
  },
  {
   "attachments": {},
   "cell_type": "markdown",
   "metadata": {},
   "source": [
    "We evaluate the performance of CTGAN"
   ]
  },
  {
   "cell_type": "code",
   "execution_count": 13,
   "metadata": {},
   "outputs": [
    {
     "name": "stderr",
     "output_type": "stream",
     "text": [
      "Creating report:   0%|          | 0/4 [00:00<?, ?it/s]"
     ]
    },
    {
     "name": "stderr",
     "output_type": "stream",
     "text": [
      "Creating report: 100%|██████████| 4/4 [00:00<00:00, 16.52it/s]"
     ]
    },
    {
     "name": "stdout",
     "output_type": "stream",
     "text": [
      "\n",
      "Overall Quality Score: 87.18%\n",
      "\n",
      "Properties:\n",
      "Column Shapes: 94.87%\n",
      "Column Pair Trends: 79.49%\n"
     ]
    },
    {
     "name": "stderr",
     "output_type": "stream",
     "text": [
      "\n"
     ]
    },
    {
     "data": {
      "text/plain": [
       "<sdmetrics.reports.single_table.quality_report.QualityReport at 0x1691e2ca0>"
      ]
     },
     "execution_count": 13,
     "metadata": {},
     "output_type": "execute_result"
    }
   ],
   "source": [
    "quality_report_CTGAN_100 = evaluate_quality(\n",
    "    real_data=df_real,\n",
    "    synthetic_data=df_CTGAN_100,\n",
    "    metadata=metadata)\n",
    "quality_report_CTGAN_100"
   ]
  }
 ],
 "metadata": {
  "kernelspec": {
   "display_name": "Python 3",
   "language": "python",
   "name": "python3"
  },
  "language_info": {
   "codemirror_mode": {
    "name": "ipython",
    "version": 3
   },
   "file_extension": ".py",
   "mimetype": "text/x-python",
   "name": "python",
   "nbconvert_exporter": "python",
   "pygments_lexer": "ipython3",
   "version": "3.9.10"
  },
  "orig_nbformat": 4,
  "vscode": {
   "interpreter": {
    "hash": "a277570bceeeb00b25262093a773d52934552eedb15b485dd7ccf85dec1c7660"
   }
  }
 },
 "nbformat": 4,
 "nbformat_minor": 2
}
